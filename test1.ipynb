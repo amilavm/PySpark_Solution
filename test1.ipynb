{
 "cells": [
  {
   "cell_type": "code",
   "execution_count": 223,
   "metadata": {
    "scrolled": true
   },
   "outputs": [],
   "source": [
    "#pip --version\n"
   ]
  },
  {
   "cell_type": "code",
   "execution_count": 224,
   "metadata": {},
   "outputs": [],
   "source": [
    "#pip install spylon-kernel"
   ]
  },
  {
   "cell_type": "code",
   "execution_count": 225,
   "metadata": {
    "scrolled": true
   },
   "outputs": [],
   "source": [
    "#pip install pyspark[sql]"
   ]
  },
  {
   "cell_type": "code",
   "execution_count": 227,
   "metadata": {
    "scrolled": true
   },
   "outputs": [],
   "source": [
    "#https://sparkbyexamples.com/pyspark-tutorial/#spyder-ide >> read this\n",
    "#https://sparkbyexamples.com/pyspark/pyspark-what-is-sparksession/\n",
    "#import pyspark # importing pyspark\n",
    "#from pyspark import SparkContext\n",
    "#sc =SparkContext()"
   ]
  },
  {
   "cell_type": "code",
   "execution_count": 228,
   "metadata": {},
   "outputs": [],
   "source": [
    "#from pyspark.sql import SparkSession"
   ]
  },
  {
   "cell_type": "code",
   "execution_count": 229,
   "metadata": {},
   "outputs": [],
   "source": [
    "# starting spark session\n",
    "#spark = SparkSession.builder.appName(\"how to read csv file\").getOrCreate()"
   ]
  },
  {
   "cell_type": "code",
   "execution_count": 230,
   "metadata": {},
   "outputs": [
    {
     "data": {
      "text/plain": [
       "'3.1.1'"
      ]
     },
     "execution_count": 230,
     "metadata": {},
     "output_type": "execute_result"
    }
   ],
   "source": [
    "spark.version # checking spark version"
   ]
  },
  {
   "cell_type": "code",
   "execution_count": 231,
   "metadata": {},
   "outputs": [],
   "source": [
    "from pyspark.sql.functions import collect_set,sum,avg,max,countDistinct,count\n",
    "#https://sparkbyexamples.com/pyspark/pyspark-aggregate-functions/#avg"
   ]
  },
  {
   "cell_type": "code",
   "execution_count": 232,
   "metadata": {},
   "outputs": [],
   "source": [
    "BCDM382= spark.read.option(\"header\",True).csv(\"BCD-M382.csv\")"
   ]
  },
  {
   "cell_type": "code",
   "execution_count": 233,
   "metadata": {},
   "outputs": [],
   "source": [
    "#BCDM382.printSchema()\n",
    "#BCDM382.show()"
   ]
  },
  {
   "cell_type": "code",
   "execution_count": 234,
   "metadata": {},
   "outputs": [
    {
     "name": "stdout",
     "output_type": "stream",
     "text": [
      "avg: 2912.7153465346537\n"
     ]
    }
   ],
   "source": [
    "print(\"avg: \" + str(BCDM382.select(avg(\"Peak (kWh)\")).collect()[0][0]))"
   ]
  },
  {
   "cell_type": "code",
   "execution_count": 235,
   "metadata": {},
   "outputs": [],
   "source": [
    "#BCDM382.write.option(\"header\",True).csv(\"test1\")"
   ]
  },
  {
   "cell_type": "code",
   "execution_count": 236,
   "metadata": {},
   "outputs": [],
   "source": [
    "BCDM383= spark.read.option(\"header\",True).csv(\"BCD-M383.csv\")"
   ]
  },
  {
   "cell_type": "code",
   "execution_count": 237,
   "metadata": {},
   "outputs": [],
   "source": [
    "BCDM384= spark.read.option(\"header\",True).csv(\"BCD-M384.csv\")"
   ]
  },
  {
   "cell_type": "code",
   "execution_count": 238,
   "metadata": {},
   "outputs": [],
   "source": [
    "BCDM385= spark.read.option(\"header\",True).csv(\"BCD-M385.csv\")"
   ]
  },
  {
   "cell_type": "code",
   "execution_count": 239,
   "metadata": {},
   "outputs": [],
   "source": [
    "BCDM386= spark.read.option(\"header\",True).csv(\"BCD-M386.csv\")"
   ]
  },
  {
   "cell_type": "code",
   "execution_count": 240,
   "metadata": {},
   "outputs": [],
   "source": [
    "BCDM387= spark.read.option(\"header\",True).csv(\"BCD-M387.csv\")"
   ]
  },
  {
   "cell_type": "code",
   "execution_count": 242,
   "metadata": {
    "scrolled": true
   },
   "outputs": [
    {
     "name": "stdout",
     "output_type": "stream",
     "text": [
      "root\n",
      " |-- Area: string (nullable = true)\n",
      " |-- CSC: string (nullable = true)\n",
      " |-- Account No: string (nullable = true)\n",
      " |-- Meter No: string (nullable = true)\n",
      " |-- Customer: string (nullable = true)\n",
      " |-- Address: string (nullable = true)\n",
      " |-- Tariff category: string (nullable = true)\n",
      " |-- Contract Demand: string (nullable = true)\n",
      " |-- Billing cycle: string (nullable = true)\n",
      " |-- Peak (kWh): string (nullable = true)\n",
      " |-- Day (kWh): string (nullable = true)\n",
      " |-- Off peak (kWh): string (nullable = true)\n",
      " |-- Maximum demand (kVA): string (nullable = true)\n",
      " |-- Fixed  chargers: string (nullable = true)\n",
      " |-- Total bill value for the month: string (nullable = true)\n",
      "\n"
     ]
    }
   ],
   "source": [
    "BCDM382.printSchema()"
   ]
  },
  {
   "cell_type": "code",
   "execution_count": 243,
   "metadata": {},
   "outputs": [],
   "source": [
    "#https://sparkbyexamples.com/pyspark/pyspark-join-explained-with-examples/\n"
   ]
  },
  {
   "cell_type": "code",
   "execution_count": 244,
   "metadata": {},
   "outputs": [
    {
     "data": {
      "text/plain": [
       "(4606, 409, 410, 412, 413, 418)"
      ]
     },
     "execution_count": 244,
     "metadata": {},
     "output_type": "execute_result"
    }
   ],
   "source": [
    "BCDM382.count(),BCDM383.count(),BCDM384.count(),BCDM385.count(),BCDM386.count(),BCDM387.count()"
   ]
  },
  {
   "cell_type": "code",
   "execution_count": 245,
   "metadata": {},
   "outputs": [
    {
     "name": "stdout",
     "output_type": "stream",
     "text": [
      "+-------+------------------+\n",
      "|summary|        Peak (kWh)|\n",
      "+-------+------------------+\n",
      "|  count|               409|\n",
      "|   mean| 2914.149509803922|\n",
      "| stddev|5483.2290684325735|\n",
      "|    min|                 0|\n",
      "|    max|                I2|\n",
      "+-------+------------------+\n",
      "\n"
     ]
    }
   ],
   "source": [
    "BCDM383.describe('Peak (kWh)').show()"
   ]
  },
  {
   "cell_type": "code",
   "execution_count": 246,
   "metadata": {},
   "outputs": [
    {
     "name": "stdout",
     "output_type": "stream",
     "text": [
      "+--------------+---------+\n",
      "|    Account No|Day (kWh)|\n",
      "+--------------+---------+\n",
      "|\"\"\"2370101172\"|        2|\n",
      "|\"\"\"2370101180\"|      200|\n",
      "|\"\"\"2370101202\"|     1223|\n",
      "|\"\"\"2370101253\"|      420|\n",
      "|\"\"\"2370101288\"|    66073|\n",
      "+--------------+---------+\n",
      "only showing top 5 rows\n",
      "\n"
     ]
    }
   ],
   "source": [
    "BCDM383.select('Account No','Day (kWh)').show(5)\n",
    "#https://www.analyticsvidhya.com/blog/2016/10/spark-dataframe-and-operations/"
   ]
  },
  {
   "cell_type": "code",
   "execution_count": 247,
   "metadata": {},
   "outputs": [],
   "source": [
    "from pyspark.sql.functions import lit, desc, col, size, array_contains, isnan, udf, hour, array_min, array_max, countDistinct"
   ]
  },
  {
   "cell_type": "code",
   "execution_count": 248,
   "metadata": {},
   "outputs": [],
   "source": [
    "import pyspark\n",
    "from pyspark.rdd import RDD\n",
    "from pyspark.sql import Row\n",
    "from pyspark.sql import DataFrame\n",
    "from pyspark.sql import SparkSession\n",
    "from pyspark.sql import SQLContext\n",
    "from pyspark.sql import functions\n",
    "from pyspark.sql.functions import lit, desc, col, size, array_contains\\\n",
    ", isnan, udf, hour, array_min, array_max, countDistinct\n",
    "from pyspark.sql.types import *\n",
    "\n",
    "from pyspark.ml  import Pipeline     \n",
    "from pyspark.sql.functions import mean,col,split, col, regexp_extract, when, lit"
   ]
  },
  {
   "cell_type": "code",
   "execution_count": 249,
   "metadata": {},
   "outputs": [],
   "source": [
    "BCDM382_P=BCDM382.select(col(\"Account No\").alias(\"Account No-382\"),'Tariff category',col(\"Peak (kWh)\").alias(\"Peak-382\"))\n",
    "BCDM383_P=BCDM383.select(col(\"Account No\").alias(\"Account No-383\"),col(\"Peak (kWh)\").alias(\"Peak-383\"))\n",
    "BCDM384_P=BCDM384.select(col(\"Account No\").alias(\"Account No-384\"),col(\"Peak (kWh)\").alias(\"Peak-384\"))\n",
    "BCDM385_P=BCDM385.select(col(\"Account No\").alias(\"Account No-385\"),col(\"Peak (kWh)\").alias(\"Peak-385\"))\n",
    "BCDM386_P=BCDM386.select(col(\"Account No\").alias(\"Account No-386\"),col(\"Peak (kWh)\").alias(\"Peak-386\"))\n",
    "BCDM387_P=BCDM387.select(col(\"Account No\").alias(\"Account No-387\"),col(\"Peak (kWh)\").alias(\"Peak-387\"))\n"
   ]
  },
  {
   "cell_type": "code",
   "execution_count": 250,
   "metadata": {
    "scrolled": true
   },
   "outputs": [
    {
     "name": "stdout",
     "output_type": "stream",
     "text": [
      "root\n",
      " |-- Account No-382: string (nullable = true)\n",
      " |-- Tariff category: string (nullable = true)\n",
      " |-- Peak-382: string (nullable = true)\n",
      "\n",
      "root\n",
      " |-- Account No-384: string (nullable = true)\n",
      " |-- Peak-384: string (nullable = true)\n",
      "\n"
     ]
    },
    {
     "data": {
      "text/plain": [
       "(None, None)"
      ]
     },
     "execution_count": 250,
     "metadata": {},
     "output_type": "execute_result"
    }
   ],
   "source": [
    "(BCDM382_P.printSchema(),BCDM384_P.printSchema())"
   ]
  },
  {
   "cell_type": "code",
   "execution_count": 251,
   "metadata": {},
   "outputs": [],
   "source": [
    "#https://sparkbyexamples.com/pyspark/pyspark-join-two-or-multiple-dataframes/#pyspark-join-with-multiple-columns-conditions"
   ]
  },
  {
   "cell_type": "code",
   "execution_count": 252,
   "metadata": {},
   "outputs": [],
   "source": [
    "BCDM_P=BCDM382_P.join(BCDM383_P).where(BCDM382_P['Account No-382'] ==  BCDM383_P['Account No-383'])\\\n",
    "                .join(BCDM384_P).where(BCDM382_P['Account No-382'] ==  BCDM384_P['Account No-384'])\\\n",
    "                .join(BCDM385_P).where(BCDM382_P['Account No-382'] ==  BCDM385_P['Account No-385'])\\\n",
    "                .join(BCDM386_P).where(BCDM382_P['Account No-382'] ==  BCDM386_P['Account No-386'])\\\n",
    "                .join(BCDM387_P).where(BCDM382_P['Account No-382'] ==  BCDM387_P['Account No-387'])\\"
   ]
  },
  {
   "cell_type": "code",
   "execution_count": 253,
   "metadata": {},
   "outputs": [
    {
     "name": "stdout",
     "output_type": "stream",
     "text": [
      "root\n",
      " |-- Account No-382: string (nullable = true)\n",
      " |-- Tariff category: string (nullable = true)\n",
      " |-- Peak-382: string (nullable = true)\n",
      " |-- Account No-383: string (nullable = true)\n",
      " |-- Peak-383: string (nullable = true)\n",
      " |-- Account No-384: string (nullable = true)\n",
      " |-- Peak-384: string (nullable = true)\n",
      " |-- Account No-385: string (nullable = true)\n",
      " |-- Peak-385: string (nullable = true)\n",
      " |-- Account No-386: string (nullable = true)\n",
      " |-- Peak-386: string (nullable = true)\n",
      " |-- Account No-387: string (nullable = true)\n",
      " |-- Peak-387: string (nullable = true)\n",
      "\n"
     ]
    }
   ],
   "source": [
    "BCDM_P.printSchema()"
   ]
  },
  {
   "cell_type": "code",
   "execution_count": 254,
   "metadata": {},
   "outputs": [
    {
     "name": "stdout",
     "output_type": "stream",
     "text": [
      "+--------------+---------------+--------+--------------+--------+--------------+--------+--------------+--------+--------------+--------+--------------+--------+\n",
      "|Account No-382|Tariff category|Peak-382|Account No-383|Peak-383|Account No-384|Peak-384|Account No-385|Peak-385|Account No-386|Peak-386|Account No-387|Peak-387|\n",
      "+--------------+---------------+--------+--------------+--------+--------------+--------+--------------+--------+--------------+--------+--------------+--------+\n",
      "|\"\"\"2370101172\"|            GP3|       0|\"\"\"2370101172\"|       1|\"\"\"2370101172\"|       1|\"\"\"2370101172\"|       0|\"\"\"2370101172\"|       1|\"\"\"2370101172\"|       0|\n",
      "|\"\"\"2370101180\"|            GP3|       0|\"\"\"2370101180\"|       0|\"\"\"2370101180\"|     100|\"\"\"2370101180\"|     300|\"\"\"2370101180\"|    4300|\"\"\"2370101180\"|       0|\n",
      "|\"\"\"2370101202\"|            GP3|     309|\"\"\"2370101202\"|     336|\"\"\"2370101202\"|     273|\"\"\"2370101202\"|     224|\"\"\"2370101202\"|     353|\"\"\"2370101202\"|      68|\n",
      "|\"\"\"2370101253\"|            GP3|     185|\"\"\"2370101253\"|     156|\"\"\"2370101253\"|     191|\"\"\"2370101253\"|     170|\"\"\"2370101253\"|     195|\"\"\"2370101253\"|      42|\n",
      "|\"\"\"2370101288\"|            GP3|   19386|\"\"\"2370101288\"|   20541|\"\"\"2370101288\"|   19534|\"\"\"2370101288\"|   19647|\"\"\"2370101288\"|   18412|\"\"\"2370101288\"|   17018|\n",
      "+--------------+---------------+--------+--------------+--------+--------------+--------+--------------+--------+--------------+--------+--------------+--------+\n",
      "only showing top 5 rows\n",
      "\n"
     ]
    }
   ],
   "source": [
    "BCDM_P.show(5)"
   ]
  },
  {
   "cell_type": "code",
   "execution_count": 255,
   "metadata": {},
   "outputs": [
    {
     "name": "stdout",
     "output_type": "stream",
     "text": [
      "+--------------+---------------+--------+--------+--------+--------+--------+--------+\n",
      "|    Account No|Tariff category|Peak-382|Peak-383|Peak-384|Peak-385|Peak-386|Peak-387|\n",
      "+--------------+---------------+--------+--------+--------+--------+--------+--------+\n",
      "|\"\"\"2370101172\"|            GP3|       0|       1|       1|       0|       1|       0|\n",
      "|\"\"\"2370101180\"|            GP3|       0|       0|     100|     300|    4300|       0|\n",
      "|\"\"\"2370101202\"|            GP3|     309|     336|     273|     224|     353|      68|\n",
      "|\"\"\"2370101253\"|            GP3|     185|     156|     191|     170|     195|      42|\n",
      "|\"\"\"2370101288\"|            GP3|   19386|   20541|   19534|   19647|   18412|   17018|\n",
      "+--------------+---------------+--------+--------+--------+--------+--------+--------+\n",
      "only showing top 5 rows\n",
      "\n"
     ]
    }
   ],
   "source": [
    "BCDM_P2=BCDM_P.select(col(\"Account No-382\").alias(\"Account No\"),\"Tariff category\",'Peak-382','Peak-383','Peak-384','Peak-385','Peak-386','Peak-387')\n",
    "BCDM_P2.show(5)"
   ]
  },
  {
   "cell_type": "code",
   "execution_count": 265,
   "metadata": {},
   "outputs": [
    {
     "name": "stdout",
     "output_type": "stream",
     "text": [
      "+--------------+---------------+------------------+\n",
      "|    Account No|Tariff category|              mean|\n",
      "+--------------+---------------+------------------+\n",
      "|\"\"\"2370101172\"|            GP3|               0.5|\n",
      "|\"\"\"2370101180\"|            GP3| 783.3333333333334|\n",
      "|\"\"\"2370101202\"|            GP3|             260.5|\n",
      "|\"\"\"2370101253\"|            GP3|             156.5|\n",
      "|\"\"\"2370101288\"|            GP3|19089.666666666668|\n",
      "+--------------+---------------+------------------+\n",
      "only showing top 5 rows\n",
      "\n"
     ]
    }
   ],
   "source": [
    "BCDM_PCM=BCDM_P2.select('Account No',\"Tariff category\",\\\n",
    "                        ((col(\"Peak-382\") + col(\"Peak-383\")+ col(\"Peak-384\")+ col(\"Peak-385\")+ col(\"Peak-386\")+ col(\"Peak-387\"))\\\n",
    "                         / lit(6)).alias(\"mean\"))\n",
    "BCDM_PCM.show(5)\n"
   ]
  },
  {
   "cell_type": "code",
   "execution_count": 268,
   "metadata": {},
   "outputs": [
    {
     "name": "stdout",
     "output_type": "stream",
     "text": [
      "+--------------+---------------+------------------+\n",
      "|    Account No|Tariff category|              mean|\n",
      "+--------------+---------------+------------------+\n",
      "|\"\"\"2370101342\"|            GP3|46486.666666666664|\n",
      "|\"\"\"3970600103\"|             I2|           42839.5|\n",
      "|\"\"\"3970600057\"|             I2|           40638.5|\n",
      "|\"\"\"3670100660\"|            GV2|25813.166666666668|\n",
      "|\"\"\"3670100660\"|            GV2|25813.166666666668|\n",
      "|\"\"\"3670100660\"|            GV2|25813.166666666668|\n",
      "|\"\"\"3670100660\"|            GV2|25813.166666666668|\n",
      "|\"\"\"3670100660\"|            GV2|25813.166666666668|\n",
      "|\"\"\"3670100660\"|            GV2|25813.166666666668|\n",
      "|\"\"\"3670100660\"|            GV2|25813.166666666668|\n",
      "+--------------+---------------+------------------+\n",
      "only showing top 10 rows\n",
      "\n"
     ]
    }
   ],
   "source": [
    "P_max=BCDM_PCM.sort('mean', ascending=False)\n",
    "P_max.show(10)"
   ]
  },
  {
   "cell_type": "code",
   "execution_count": 275,
   "metadata": {},
   "outputs": [
    {
     "name": "stdout",
     "output_type": "stream",
     "text": [
      "+--------------+---------------+------------------+\n",
      "|    Account No|Tariff category|              mean|\n",
      "+--------------+---------------+------------------+\n",
      "|\"\"\"3970600103\"|             I2|           42839.5|\n",
      "|\"\"\"3970600057\"|             I2|           40638.5|\n",
      "|\"\"\"3670100997\"|             I2|22446.833333333332|\n",
      "|\"\"\"2370100907\"|             I2|           22418.0|\n",
      "|\"\"\"2370100915\"|             I2|           20534.0|\n",
      "|\"\"\"3670101152\"|             I2|           18857.0|\n",
      "|\"\"\"3670101470\"|             I2|18176.666666666668|\n",
      "|\"\"\"3670100245\"|             I2|18038.166666666668|\n",
      "|\"\"\"3670100679\"|             I2|16063.666666666666|\n",
      "|\"\"\"3670100776\"|             I2|           14841.5|\n",
      "+--------------+---------------+------------------+\n",
      "only showing top 10 rows\n",
      "\n"
     ]
    }
   ],
   "source": [
    "P_max_I2=BCDM_PCM.filter(BCDM_PCM[\"Tariff category\"]== 'I2').sort('mean', ascending=False)\n",
    "P_max_I2.show(10)"
   ]
  },
  {
   "cell_type": "code",
   "execution_count": null,
   "metadata": {},
   "outputs": [],
   "source": []
  },
  {
   "cell_type": "code",
   "execution_count": 257,
   "metadata": {},
   "outputs": [
    {
     "name": "stdout",
     "output_type": "stream",
     "text": [
      "+-------------------+------------------+\n",
      "|Tariff category-384|     avg(Peak-384)|\n",
      "+-------------------+------------------+\n",
      "|                 H1|               0.0|\n",
      "|                RL1|               0.0|\n",
      "|   PATTIYAGEDARA. \"|             384.0|\n",
      "|                 I2|  4477.93879152498|\n",
      "|                TM1|               0.0|\n",
      "|      2ND MILE POST|              null|\n",
      "|                 I3| 676.8571428571429|\n",
      "|                 I1|             165.0|\n",
      "|          MORAGOLLA|             120.0|\n",
      "|                GV2|16728.109589041094|\n",
      "|                GP3| 1277.139566395664|\n",
      "|                GP1|126.49411764705883|\n",
      "|                GP2| 438.8749032757287|\n",
      "|                 H2|2349.8888888888887|\n",
      "+-------------------+------------------+\n",
      "\n",
      "+-------------------+------------------+\n",
      "|Tariff category-387|     avg(Peak-387)|\n",
      "+-------------------+------------------+\n",
      "|                 H1|               0.0|\n",
      "|                RL1|               0.0|\n",
      "|   PATTIYAGEDARA. \"|             387.0|\n",
      "|                 I2| 5242.437352864243|\n",
      "|                TM1|               0.0|\n",
      "|      2ND MILE POST|              null|\n",
      "|                 I3|1281.2857142857142|\n",
      "|                 I1|             187.5|\n",
      "|          MORAGOLLA|             120.0|\n",
      "|                GV2|15686.575342465754|\n",
      "|                GP3|1821.7737127371274|\n",
      "|                GP1|140.04705882352943|\n",
      "|                GP2| 351.7152437451638|\n",
      "|                 H2|            2194.0|\n",
      "+-------------------+------------------+\n",
      "\n"
     ]
    }
   ],
   "source": [
    "#https://www.datasciencemadesimple.com/mean-variance-and-standard-deviation-of-column-in-pyspark/\n",
    "\n",
    "P_Avg_382=BCDM_P2.groupby('Tariff category').agg({'Peak-382': 'mean'})\n",
    "P_Avg_383=BCDM_P2.groupby('Tariff category').agg({'Peak-383': 'mean'})\n",
    "P_Avg_384=BCDM_P2.groupby('Tariff category').agg({'Peak-384': 'mean'})\n",
    "P_Avg_385=BCDM_P2.groupby('Tariff category').agg({'Peak-385': 'mean'})\n",
    "P_Avg_386=BCDM_P2.groupby('Tariff category').agg({'Peak-386': 'mean'})\n",
    "P_Avg_387=BCDM_P2.groupby('Tariff category').agg({'Peak-387': 'mean'})\n",
    "        \n",
    "    \n",
    "P_Avg_382=P_Avg_382.withColumnRenamed(\"Tariff category\",\"Tariff category-382\")\n",
    "P_Avg_383=P_Avg_383.withColumnRenamed(\"Tariff category\",\"Tariff category-383\")\n",
    "P_Avg_384=P_Avg_384.withColumnRenamed(\"Tariff category\",\"Tariff category-384\")\n",
    "P_Avg_385=P_Avg_385.withColumnRenamed(\"Tariff category\",\"Tariff category-385\")\n",
    "P_Avg_386=P_Avg_386.withColumnRenamed(\"Tariff category\",\"Tariff category-386\")\n",
    "P_Avg_387=P_Avg_387.withColumnRenamed(\"Tariff category\",\"Tariff category-387\")\n",
    "#P_Avg_382.show()\n",
    "#P_Avg_383.show()  \n",
    "P_Avg_384.show()  \n",
    "#P_Avg_385.show()  \n",
    "#P_Avg_386.show() \n",
    "P_Avg_387.show()  "
   ]
  },
  {
   "cell_type": "code",
   "execution_count": 258,
   "metadata": {},
   "outputs": [],
   "source": [
    "P_Avg=P_Avg_382.join(P_Avg_383).where(P_Avg_382['Tariff category-382'] ==  P_Avg_383['Tariff category-383'])\\\n",
    "                .join(P_Avg_384).where(P_Avg_382['Tariff category-382'] ==  P_Avg_384['Tariff category-384'])\\\n",
    "                .join(P_Avg_385).where(P_Avg_382['Tariff category-382'] ==  P_Avg_385['Tariff category-385'])\\\n",
    "                .join(P_Avg_386).where(P_Avg_382['Tariff category-382'] ==  P_Avg_386['Tariff category-386'])\\\n",
    "                .join(P_Avg_387).where(P_Avg_382['Tariff category-382'] ==  P_Avg_387['Tariff category-387'])"
   ]
  },
  {
   "cell_type": "code",
   "execution_count": 259,
   "metadata": {
    "scrolled": true
   },
   "outputs": [
    {
     "name": "stdout",
     "output_type": "stream",
     "text": [
      "root\n",
      " |-- Tariff category-382: string (nullable = true)\n",
      " |-- avg(Peak-382): double (nullable = true)\n",
      " |-- Tariff category-383: string (nullable = true)\n",
      " |-- avg(Peak-383): double (nullable = true)\n",
      " |-- Tariff category-384: string (nullable = true)\n",
      " |-- avg(Peak-384): double (nullable = true)\n",
      " |-- Tariff category-385: string (nullable = true)\n",
      " |-- avg(Peak-385): double (nullable = true)\n",
      " |-- Tariff category-386: string (nullable = true)\n",
      " |-- avg(Peak-386): double (nullable = true)\n",
      " |-- Tariff category-387: string (nullable = true)\n",
      " |-- avg(Peak-387): double (nullable = true)\n",
      "\n"
     ]
    }
   ],
   "source": [
    "P_Avg.printSchema()"
   ]
  },
  {
   "cell_type": "code",
   "execution_count": 276,
   "metadata": {
    "scrolled": true
   },
   "outputs": [
    {
     "name": "stdout",
     "output_type": "stream",
     "text": [
      "+-------------------+------------------+-------------------+------------------+-------------------+------------------+-------------------+------------------+-------------------+------------------+-------------------+------------------+\n",
      "|Tariff category-382|     avg(Peak-382)|Tariff category-383|     avg(Peak-383)|Tariff category-384|     avg(Peak-384)|Tariff category-385|     avg(Peak-385)|Tariff category-386|     avg(Peak-386)|Tariff category-387|     avg(Peak-387)|\n",
      "+-------------------+------------------+-------------------+------------------+-------------------+------------------+-------------------+------------------+-------------------+------------------+-------------------+------------------+\n",
      "|                 H1|               0.0|                 H1|               0.0|                 H1|               0.0|                 H1|               0.0|                 H1|               0.0|                 H1|               0.0|\n",
      "|                RL1|               0.0|                RL1|               0.0|                RL1|               0.0|                RL1|               0.0|                RL1|               0.0|                RL1|               0.0|\n",
      "|   PATTIYAGEDARA. \"|             382.0|   PATTIYAGEDARA. \"|             383.0|   PATTIYAGEDARA. \"|             384.0|   PATTIYAGEDARA. \"|             385.0|   PATTIYAGEDARA. \"|             386.0|   PATTIYAGEDARA. \"|             387.0|\n",
      "|                 I2| 6351.059639026942|                 I2| 6616.429505623855|                 I2|  4477.93879152498|                 I2|4077.6570755950825|                 I2| 4957.840701020141|                 I2| 5242.437352864243|\n",
      "|                TM1|               0.0|                TM1|               0.0|                TM1|               0.0|                TM1|               0.0|                TM1|               0.0|                TM1|               0.0|\n",
      "|      2ND MILE POST|              null|      2ND MILE POST|              null|      2ND MILE POST|              null|      2ND MILE POST|              null|      2ND MILE POST|              null|      2ND MILE POST|              null|\n",
      "|                 I3|402.14285714285717|                 I3|             745.0|                 I3| 676.8571428571429|                 I3| 828.4285714285714|                 I3|            8625.0|                 I3|1281.2857142857142|\n",
      "|                 I1|             171.5|                 I1|             175.0|                 I1|             165.0|                 I1|             164.5|                 I1|             209.0|                 I1|             187.5|\n",
      "|          MORAGOLLA|             120.0|          MORAGOLLA|             120.0|          MORAGOLLA|             120.0|          MORAGOLLA|             120.0|          MORAGOLLA|             120.0|          MORAGOLLA|             120.0|\n",
      "|                GV2| 17756.49315068493|                GV2| 16968.76712328767|                GV2|16728.109589041094|                GV2|15939.945205479453|                GV2|17585.095890410958|                GV2|15686.575342465754|\n",
      "|                GP3|3964.3861788617887|                GP3|1531.7967479674796|                GP3| 1277.139566395664|                GP3| 1011.979674796748|                GP3|3536.2953929539294|                GP3|1821.7737127371274|\n",
      "|                GP1|121.97647058823529|                GP1|118.96470588235294|                GP1|126.49411764705883|                GP1| 139.2941176470588|                GP1|143.05882352941177|                GP1|140.04705882352943|\n",
      "|                GP2|   329.97936548878|                GP2|401.48800619035336|                GP2| 438.8749032757287|                GP2|388.89966468919266|                GP2|375.13077121485685|                GP2| 351.7152437451638|\n",
      "|                 H2|1673.3333333333333|                 H2|            2304.0|                 H2|2349.8888888888887|                 H2|2210.6666666666665|                 H2| 1750.111111111111|                 H2|            2194.0|\n",
      "+-------------------+------------------+-------------------+------------------+-------------------+------------------+-------------------+------------------+-------------------+------------------+-------------------+------------------+\n",
      "\n"
     ]
    }
   ],
   "source": [
    "P_Avg.show()"
   ]
  },
  {
   "cell_type": "code",
   "execution_count": 278,
   "metadata": {},
   "outputs": [
    {
     "name": "stdout",
     "output_type": "stream",
     "text": [
      "root\n",
      " |-- Tariff category: string (nullable = true)\n",
      " |-- avg(Peak-382): double (nullable = true)\n",
      " |-- avg(Peak-383): double (nullable = true)\n",
      " |-- avg(Peak-384): double (nullable = true)\n",
      " |-- avg(Peak-385): double (nullable = true)\n",
      " |-- avg(Peak-386): double (nullable = true)\n",
      "\n",
      "+-----------------+------------------+------------------+------------------+------------------+------------------+\n",
      "|  Tariff category|     avg(Peak-382)|     avg(Peak-383)|     avg(Peak-384)|     avg(Peak-385)|     avg(Peak-386)|\n",
      "+-----------------+------------------+------------------+------------------+------------------+------------------+\n",
      "|               H1|               0.0|               0.0|               0.0|               0.0|               0.0|\n",
      "|              RL1|               0.0|               0.0|               0.0|               0.0|               0.0|\n",
      "| PATTIYAGEDARA. \"|             382.0|             383.0|             384.0|             385.0|             386.0|\n",
      "|               I2| 6351.059639026942| 6616.429505623855|  4477.93879152498|4077.6570755950825| 4957.840701020141|\n",
      "|              TM1|               0.0|               0.0|               0.0|               0.0|               0.0|\n",
      "|    2ND MILE POST|              null|              null|              null|              null|              null|\n",
      "|               I3|402.14285714285717|             745.0| 676.8571428571429| 828.4285714285714|            8625.0|\n",
      "|               I1|             171.5|             175.0|             165.0|             164.5|             209.0|\n",
      "|        MORAGOLLA|             120.0|             120.0|             120.0|             120.0|             120.0|\n",
      "|              GV2| 17756.49315068493| 16968.76712328767|16728.109589041094|15939.945205479453|17585.095890410958|\n",
      "|              GP3|3964.3861788617887|1531.7967479674796| 1277.139566395664| 1011.979674796748|3536.2953929539294|\n",
      "|              GP1|121.97647058823529|118.96470588235294|126.49411764705883| 139.2941176470588|143.05882352941177|\n",
      "|              GP2|   329.97936548878|401.48800619035336| 438.8749032757287|388.89966468919266|375.13077121485685|\n",
      "|               H2|1673.3333333333333|            2304.0|2349.8888888888887|2210.6666666666665| 1750.111111111111|\n",
      "+-----------------+------------------+------------------+------------------+------------------+------------------+\n",
      "\n",
      "+---------------+------------------+------------------+------------------+-----------------+------------------+\n",
      "|Tariff category|     avg(Peak-382)|     avg(Peak-383)|     avg(Peak-384)|    avg(Peak-385)|     avg(Peak-386)|\n",
      "+---------------+------------------+------------------+------------------+-----------------+------------------+\n",
      "|             H1|               0.0|               0.0|               0.0|              0.0|               0.0|\n",
      "|             I1|             171.5|             175.0|             165.0|            164.5|             209.0|\n",
      "|            GP1|121.97647058823529|118.96470588235294|126.49411764705883|139.2941176470588|143.05882352941177|\n",
      "+---------------+------------------+------------------+------------------+-----------------+------------------+\n",
      "\n"
     ]
    }
   ],
   "source": [
    "P_Avg2=P_Avg.select(col(\"Tariff category-382\").alias(\"Tariff category\"),\"avg(Peak-382)\",\"avg(Peak-383)\",\"avg(Peak-384)\",\\\n",
    "                    \"avg(Peak-385)\",\"avg(Peak-386)\")#,\"avg(Peak-387)\")\n",
    "                     \n",
    "P_Avg2.printSchema()\n",
    "P_Avg2.show()\n",
    "category=[\"I1\",\"H1\",\"GP1\"]\n",
    "P_Avg2.filter(P_Avg2[\"Tariff category\"].isin(category)).show()\n"
   ]
  },
  {
   "cell_type": "code",
   "execution_count": null,
   "metadata": {},
   "outputs": [],
   "source": []
  }
 ],
 "metadata": {
  "kernelspec": {
   "display_name": "Python 3",
   "language": "python",
   "name": "python3"
  },
  "language_info": {
   "codemirror_mode": {
    "name": "ipython",
    "version": 3
   },
   "file_extension": ".py",
   "mimetype": "text/x-python",
   "name": "python",
   "nbconvert_exporter": "python",
   "pygments_lexer": "ipython3",
   "version": "3.7.9"
  }
 },
 "nbformat": 4,
 "nbformat_minor": 4
}
