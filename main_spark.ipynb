{
 "cells": [
  {
   "cell_type": "code",
   "execution_count": 1,
   "id": "340ed782",
   "metadata": {},
   "outputs": [],
   "source": [
    "from pyspark.sql import SparkSession"
   ]
  },
  {
   "cell_type": "code",
   "execution_count": 2,
   "id": "699165a8",
   "metadata": {},
   "outputs": [],
   "source": [
    "import seaborn as sns\n",
    "import matplotlib.pyplot as plt"
   ]
  },
  {
   "cell_type": "code",
   "execution_count": 3,
   "id": "5c3f57c4",
   "metadata": {},
   "outputs": [],
   "source": [
    "import pyspark.sql.functions as f"
   ]
  },
  {
   "cell_type": "markdown",
   "id": "8d08015c",
   "metadata": {},
   "source": [
    "### Create Spark Session"
   ]
  },
  {
   "cell_type": "code",
   "execution_count": 4,
   "id": "952f4520",
   "metadata": {},
   "outputs": [],
   "source": [
    "# create a spark session\n",
    "spark = SparkSession.builder.appName('Spark_Assignment').getOrCreate()"
   ]
  },
  {
   "cell_type": "code",
   "execution_count": 5,
   "id": "6bda1cc2",
   "metadata": {
    "scrolled": true
   },
   "outputs": [
    {
     "data": {
      "text/html": [
       "\n",
       "            <div>\n",
       "                <p><b>SparkSession - in-memory</b></p>\n",
       "                \n",
       "        <div>\n",
       "            <p><b>SparkContext</b></p>\n",
       "\n",
       "            <p><a href=\"http://192.168.1.101:4040\">Spark UI</a></p>\n",
       "\n",
       "            <dl>\n",
       "              <dt>Version</dt>\n",
       "                <dd><code>v3.1.1</code></dd>\n",
       "              <dt>Master</dt>\n",
       "                <dd><code>local[*]</code></dd>\n",
       "              <dt>AppName</dt>\n",
       "                <dd><code>Spark_Assignment</code></dd>\n",
       "            </dl>\n",
       "        </div>\n",
       "        \n",
       "            </div>\n",
       "        "
      ],
      "text/plain": [
       "<pyspark.sql.session.SparkSession at 0x7f98f02eba58>"
      ]
     },
     "execution_count": 5,
     "metadata": {},
     "output_type": "execute_result"
    }
   ],
   "source": [
    "spark"
   ]
  },
  {
   "cell_type": "code",
   "execution_count": 20,
   "id": "e956ca1e",
   "metadata": {},
   "outputs": [],
   "source": [
    "spark.conf.set('spark.sql.repl.eagerEval.enabled', True)"
   ]
  },
  {
   "cell_type": "markdown",
   "id": "5a7b8b8d",
   "metadata": {},
   "source": [
    "### Load the Dataset"
   ]
  },
  {
   "cell_type": "code",
   "execution_count": 7,
   "id": "96e78363",
   "metadata": {},
   "outputs": [],
   "source": [
    "df_pyspark = spark.read.csv('data.csv', header=True, inferSchema=True)"
   ]
  },
  {
   "cell_type": "code",
   "execution_count": 8,
   "id": "ce4fecd7",
   "metadata": {
    "scrolled": true
   },
   "outputs": [
    {
     "data": {
      "text/html": [
       "<table border='1'>\n",
       "<tr><th>InvoiceNo</th><th>StockCode</th><th>Description</th><th>Quantity</th><th>InvoiceDate</th><th>UnitPrice</th><th>CustomerID</th><th>Country</th></tr>\n",
       "<tr><td>536365</td><td>85123A</td><td>WHITE HANGING HEA...</td><td>6</td><td>12/1/2010 8:26</td><td>2.55</td><td>17850</td><td>United Kingdom</td></tr>\n",
       "<tr><td>536365</td><td>71053</td><td>WHITE METAL LANTERN</td><td>6</td><td>12/1/2010 8:26</td><td>3.39</td><td>17850</td><td>United Kingdom</td></tr>\n",
       "<tr><td>536365</td><td>84406B</td><td>CREAM CUPID HEART...</td><td>8</td><td>12/1/2010 8:26</td><td>2.75</td><td>17850</td><td>United Kingdom</td></tr>\n",
       "<tr><td>536365</td><td>84029G</td><td>KNITTED UNION FLA...</td><td>6</td><td>12/1/2010 8:26</td><td>3.39</td><td>17850</td><td>United Kingdom</td></tr>\n",
       "<tr><td>536365</td><td>84029E</td><td>RED WOOLLY HOTTIE...</td><td>6</td><td>12/1/2010 8:26</td><td>3.39</td><td>17850</td><td>United Kingdom</td></tr>\n",
       "<tr><td>536365</td><td>22752</td><td>SET 7 BABUSHKA NE...</td><td>2</td><td>12/1/2010 8:26</td><td>7.65</td><td>17850</td><td>United Kingdom</td></tr>\n",
       "<tr><td>536365</td><td>21730</td><td>GLASS STAR FROSTE...</td><td>6</td><td>12/1/2010 8:26</td><td>4.25</td><td>17850</td><td>United Kingdom</td></tr>\n",
       "<tr><td>536366</td><td>22633</td><td>HAND WARMER UNION...</td><td>6</td><td>12/1/2010 8:28</td><td>1.85</td><td>17850</td><td>United Kingdom</td></tr>\n",
       "<tr><td>536366</td><td>22632</td><td>HAND WARMER RED P...</td><td>6</td><td>12/1/2010 8:28</td><td>1.85</td><td>17850</td><td>United Kingdom</td></tr>\n",
       "<tr><td>536367</td><td>84879</td><td>ASSORTED COLOUR B...</td><td>32</td><td>12/1/2010 8:34</td><td>1.69</td><td>13047</td><td>United Kingdom</td></tr>\n",
       "<tr><td>536367</td><td>22745</td><td>POPPY&#x27;S PLAYHOUSE...</td><td>6</td><td>12/1/2010 8:34</td><td>2.1</td><td>13047</td><td>United Kingdom</td></tr>\n",
       "<tr><td>536367</td><td>22748</td><td>POPPY&#x27;S PLAYHOUSE...</td><td>6</td><td>12/1/2010 8:34</td><td>2.1</td><td>13047</td><td>United Kingdom</td></tr>\n",
       "<tr><td>536367</td><td>22749</td><td>FELTCRAFT PRINCES...</td><td>8</td><td>12/1/2010 8:34</td><td>3.75</td><td>13047</td><td>United Kingdom</td></tr>\n",
       "<tr><td>536367</td><td>22310</td><td>IVORY KNITTED MUG...</td><td>6</td><td>12/1/2010 8:34</td><td>1.65</td><td>13047</td><td>United Kingdom</td></tr>\n",
       "<tr><td>536367</td><td>84969</td><td>BOX OF 6 ASSORTED...</td><td>6</td><td>12/1/2010 8:34</td><td>4.25</td><td>13047</td><td>United Kingdom</td></tr>\n",
       "<tr><td>536367</td><td>22623</td><td>BOX OF VINTAGE JI...</td><td>3</td><td>12/1/2010 8:34</td><td>4.95</td><td>13047</td><td>United Kingdom</td></tr>\n",
       "<tr><td>536367</td><td>22622</td><td>BOX OF VINTAGE AL...</td><td>2</td><td>12/1/2010 8:34</td><td>9.95</td><td>13047</td><td>United Kingdom</td></tr>\n",
       "<tr><td>536367</td><td>21754</td><td>HOME BUILDING BLO...</td><td>3</td><td>12/1/2010 8:34</td><td>5.95</td><td>13047</td><td>United Kingdom</td></tr>\n",
       "<tr><td>536367</td><td>21755</td><td>LOVE BUILDING BLO...</td><td>3</td><td>12/1/2010 8:34</td><td>5.95</td><td>13047</td><td>United Kingdom</td></tr>\n",
       "<tr><td>536367</td><td>21777</td><td>RECIPE BOX WITH M...</td><td>4</td><td>12/1/2010 8:34</td><td>7.95</td><td>13047</td><td>United Kingdom</td></tr>\n",
       "</table>\n",
       "only showing top 20 rows\n"
      ],
      "text/plain": [
       "+---------+---------+--------------------+--------+--------------+---------+----------+--------------+\n",
       "|InvoiceNo|StockCode|         Description|Quantity|   InvoiceDate|UnitPrice|CustomerID|       Country|\n",
       "+---------+---------+--------------------+--------+--------------+---------+----------+--------------+\n",
       "|   536365|   85123A|WHITE HANGING HEA...|       6|12/1/2010 8:26|     2.55|     17850|United Kingdom|\n",
       "|   536365|    71053| WHITE METAL LANTERN|       6|12/1/2010 8:26|     3.39|     17850|United Kingdom|\n",
       "|   536365|   84406B|CREAM CUPID HEART...|       8|12/1/2010 8:26|     2.75|     17850|United Kingdom|\n",
       "|   536365|   84029G|KNITTED UNION FLA...|       6|12/1/2010 8:26|     3.39|     17850|United Kingdom|\n",
       "|   536365|   84029E|RED WOOLLY HOTTIE...|       6|12/1/2010 8:26|     3.39|     17850|United Kingdom|\n",
       "|   536365|    22752|SET 7 BABUSHKA NE...|       2|12/1/2010 8:26|     7.65|     17850|United Kingdom|\n",
       "|   536365|    21730|GLASS STAR FROSTE...|       6|12/1/2010 8:26|     4.25|     17850|United Kingdom|\n",
       "|   536366|    22633|HAND WARMER UNION...|       6|12/1/2010 8:28|     1.85|     17850|United Kingdom|\n",
       "|   536366|    22632|HAND WARMER RED P...|       6|12/1/2010 8:28|     1.85|     17850|United Kingdom|\n",
       "|   536367|    84879|ASSORTED COLOUR B...|      32|12/1/2010 8:34|     1.69|     13047|United Kingdom|\n",
       "|   536367|    22745|POPPY'S PLAYHOUSE...|       6|12/1/2010 8:34|      2.1|     13047|United Kingdom|\n",
       "|   536367|    22748|POPPY'S PLAYHOUSE...|       6|12/1/2010 8:34|      2.1|     13047|United Kingdom|\n",
       "|   536367|    22749|FELTCRAFT PRINCES...|       8|12/1/2010 8:34|     3.75|     13047|United Kingdom|\n",
       "|   536367|    22310|IVORY KNITTED MUG...|       6|12/1/2010 8:34|     1.65|     13047|United Kingdom|\n",
       "|   536367|    84969|BOX OF 6 ASSORTED...|       6|12/1/2010 8:34|     4.25|     13047|United Kingdom|\n",
       "|   536367|    22623|BOX OF VINTAGE JI...|       3|12/1/2010 8:34|     4.95|     13047|United Kingdom|\n",
       "|   536367|    22622|BOX OF VINTAGE AL...|       2|12/1/2010 8:34|     9.95|     13047|United Kingdom|\n",
       "|   536367|    21754|HOME BUILDING BLO...|       3|12/1/2010 8:34|     5.95|     13047|United Kingdom|\n",
       "|   536367|    21755|LOVE BUILDING BLO...|       3|12/1/2010 8:34|     5.95|     13047|United Kingdom|\n",
       "|   536367|    21777|RECIPE BOX WITH M...|       4|12/1/2010 8:34|     7.95|     13047|United Kingdom|\n",
       "+---------+---------+--------------------+--------+--------------+---------+----------+--------------+\n",
       "only showing top 20 rows"
      ]
     },
     "execution_count": 8,
     "metadata": {},
     "output_type": "execute_result"
    }
   ],
   "source": [
    "df_pyspark"
   ]
  },
  {
   "cell_type": "code",
   "execution_count": 9,
   "id": "707b4012",
   "metadata": {},
   "outputs": [
    {
     "data": {
      "text/plain": [
       "[Row(InvoiceNo='536365', StockCode='85123A', Description='WHITE HANGING HEART T-LIGHT HOLDER', Quantity=6, InvoiceDate='12/1/2010 8:26', UnitPrice=2.55, CustomerID=17850, Country='United Kingdom'),\n",
       " Row(InvoiceNo='536365', StockCode='71053', Description='WHITE METAL LANTERN', Quantity=6, InvoiceDate='12/1/2010 8:26', UnitPrice=3.39, CustomerID=17850, Country='United Kingdom'),\n",
       " Row(InvoiceNo='536365', StockCode='84406B', Description='CREAM CUPID HEARTS COAT HANGER', Quantity=8, InvoiceDate='12/1/2010 8:26', UnitPrice=2.75, CustomerID=17850, Country='United Kingdom'),\n",
       " Row(InvoiceNo='536365', StockCode='84029G', Description='KNITTED UNION FLAG HOT WATER BOTTLE', Quantity=6, InvoiceDate='12/1/2010 8:26', UnitPrice=3.39, CustomerID=17850, Country='United Kingdom'),\n",
       " Row(InvoiceNo='536365', StockCode='84029E', Description='RED WOOLLY HOTTIE WHITE HEART.', Quantity=6, InvoiceDate='12/1/2010 8:26', UnitPrice=3.39, CustomerID=17850, Country='United Kingdom')]"
      ]
     },
     "execution_count": 9,
     "metadata": {},
     "output_type": "execute_result"
    }
   ],
   "source": [
    "df_pyspark.take(5)"
   ]
  },
  {
   "cell_type": "code",
   "execution_count": 10,
   "id": "c16e7907",
   "metadata": {},
   "outputs": [
    {
     "name": "stdout",
     "output_type": "stream",
     "text": [
      "root\n",
      " |-- InvoiceNo: string (nullable = true)\n",
      " |-- StockCode: string (nullable = true)\n",
      " |-- Description: string (nullable = true)\n",
      " |-- Quantity: integer (nullable = true)\n",
      " |-- InvoiceDate: string (nullable = true)\n",
      " |-- UnitPrice: double (nullable = true)\n",
      " |-- CustomerID: integer (nullable = true)\n",
      " |-- Country: string (nullable = true)\n",
      "\n"
     ]
    }
   ],
   "source": [
    "## check the schema\n",
    "df_pyspark.printSchema()"
   ]
  },
  {
   "cell_type": "markdown",
   "id": "bd3fb3d9",
   "metadata": {},
   "source": [
    "### Exploratory Data Analysis"
   ]
  },
  {
   "cell_type": "code",
   "execution_count": 11,
   "id": "c5fe7738",
   "metadata": {
    "scrolled": true
   },
   "outputs": [
    {
     "data": {
      "text/html": [
       "<table border='1'>\n",
       "<tr><th>summary</th><th>InvoiceNo</th><th>StockCode</th><th>Description</th><th>Quantity</th><th>InvoiceDate</th><th>UnitPrice</th><th>CustomerID</th><th>Country</th></tr>\n",
       "<tr><td>count</td><td>541909</td><td>541909</td><td>540455</td><td>541909</td><td>541909</td><td>541909</td><td>406829</td><td>541909</td></tr>\n",
       "<tr><td>mean</td><td>559965.752026781</td><td>27623.240210938104</td><td>20713.0</td><td>9.55224954743324</td><td>null</td><td>4.6111136260897085</td><td>15287.690570239585</td><td>null</td></tr>\n",
       "<tr><td>stddev</td><td>13428.417280796779</td><td>16799.737628427658</td><td>null</td><td>218.08115785023438</td><td>null</td><td>96.75985306117963</td><td>1713.6003033215982</td><td>null</td></tr>\n",
       "<tr><td>min</td><td>536365</td><td>10002</td><td> 4 PURPLE FLOCK D...</td><td>-80995</td><td>1/10/2011 10:04</td><td>-11062.06</td><td>12346</td><td>Australia</td></tr>\n",
       "<tr><td>max</td><td>C581569</td><td>m</td><td>wrongly sold sets</td><td>80995</td><td>9/9/2011 9:52</td><td>38970.0</td><td>18287</td><td>Unspecified</td></tr>\n",
       "</table>\n"
      ],
      "text/plain": [
       "+-------+------------------+------------------+--------------------+------------------+---------------+------------------+------------------+-----------+\n",
       "|summary|         InvoiceNo|         StockCode|         Description|          Quantity|    InvoiceDate|         UnitPrice|        CustomerID|    Country|\n",
       "+-------+------------------+------------------+--------------------+------------------+---------------+------------------+------------------+-----------+\n",
       "|  count|            541909|            541909|              540455|            541909|         541909|            541909|            406829|     541909|\n",
       "|   mean|  559965.752026781|27623.240210938104|             20713.0|  9.55224954743324|           null|4.6111136260897085|15287.690570239585|       null|\n",
       "| stddev|13428.417280796779|16799.737628427658|                null|218.08115785023438|           null| 96.75985306117963|1713.6003033215982|       null|\n",
       "|    min|            536365|             10002| 4 PURPLE FLOCK D...|            -80995|1/10/2011 10:04|         -11062.06|             12346|  Australia|\n",
       "|    max|           C581569|                 m|   wrongly sold sets|             80995|  9/9/2011 9:52|           38970.0|             18287|Unspecified|\n",
       "+-------+------------------+------------------+--------------------+------------------+---------------+------------------+------------------+-----------+"
      ]
     },
     "execution_count": 11,
     "metadata": {},
     "output_type": "execute_result"
    }
   ],
   "source": [
    "df_pyspark.describe()\n"
   ]
  },
  {
   "cell_type": "code",
   "execution_count": 12,
   "id": "0fbb9522",
   "metadata": {},
   "outputs": [
    {
     "name": "stdout",
     "output_type": "stream",
     "text": [
      "+---------+---------+-----------+--------+-----------+---------+----------+-------+\n",
      "|InvoiceNo|StockCode|Description|Quantity|InvoiceDate|UnitPrice|CustomerID|Country|\n",
      "+---------+---------+-----------+--------+-----------+---------+----------+-------+\n",
      "|        0|        0|       1454|       0|          0|        0|    135080|      0|\n",
      "+---------+---------+-----------+--------+-----------+---------+----------+-------+\n",
      "\n"
     ]
    }
   ],
   "source": [
    "## missing values count\n",
    "\n",
    "# null values in each column\n",
    "data_agg = df_pyspark.agg(*[f.count(f.when(f.isnull(c), c)).alias(c) for c in df_pyspark.columns])\n",
    "data_agg.show()"
   ]
  },
  {
   "cell_type": "code",
   "execution_count": 13,
   "id": "a212ef1c",
   "metadata": {
    "scrolled": true
   },
   "outputs": [
    {
     "name": "stdout",
     "output_type": "stream",
     "text": [
      "+---------+---------+-----------+--------+-----------+---------+----------+-------+\n",
      "|InvoiceNo|StockCode|Description|Quantity|InvoiceDate|UnitPrice|CustomerID|Country|\n",
      "+---------+---------+-----------+--------+-----------+---------+----------+-------+\n",
      "|        0|        0|          0|       0|          0|        0|         0|      0|\n",
      "+---------+---------+-----------+--------+-----------+---------+----------+-------+\n",
      "\n"
     ]
    }
   ],
   "source": [
    "# drop null values\n",
    "df_pyspark = df_pyspark.na.drop()\n",
    "\n",
    "data_agg = df_pyspark.agg(*[f.count(f.when(f.isnull(c), c)).alias(c) for c in df_pyspark.columns])\n",
    "data_agg.show()"
   ]
  },
  {
   "cell_type": "code",
   "execution_count": 15,
   "id": "2e5986b9",
   "metadata": {},
   "outputs": [
    {
     "name": "stdout",
     "output_type": "stream",
     "text": [
      "+---------------+------+\n",
      "|        Country| count|\n",
      "+---------------+------+\n",
      "| United Kingdom|361878|\n",
      "|        Germany|  9495|\n",
      "|         France|  8491|\n",
      "|           EIRE|  7485|\n",
      "|          Spain|  2533|\n",
      "|    Netherlands|  2371|\n",
      "|        Belgium|  2069|\n",
      "|    Switzerland|  1877|\n",
      "|       Portugal|  1480|\n",
      "|      Australia|  1259|\n",
      "|         Norway|  1086|\n",
      "|          Italy|   803|\n",
      "|Channel Islands|   758|\n",
      "|        Finland|   695|\n",
      "|         Cyprus|   622|\n",
      "|         Sweden|   462|\n",
      "|        Austria|   401|\n",
      "|        Denmark|   389|\n",
      "|          Japan|   358|\n",
      "|         Poland|   341|\n",
      "+---------------+------+\n",
      "only showing top 20 rows\n",
      "\n"
     ]
    }
   ],
   "source": [
    "# value counts of Country column\n",
    "df_country_res = df_pyspark.groupBy('Country').count().sort('count', ascending=False)\n",
    "df_country_res.show() #remove"
   ]
  },
  {
   "cell_type": "code",
   "execution_count": 16,
   "id": "f5f54412",
   "metadata": {
    "scrolled": true
   },
   "outputs": [
    {
     "data": {
      "text/plain": [
       "<AxesSubplot:xlabel='Country'>"
      ]
     },
     "execution_count": 16,
     "metadata": {},
     "output_type": "execute_result"
    },
    {
     "data": {
      "image/png": "[encoded data removed]",
      "text/plain": [
       "<Figure size 432x288 with 1 Axes>"
      ]
     },
     "metadata": {
      "needs_background": "light"
     },
     "output_type": "display_data"
    }
   ],
   "source": [
    "df_country_res.toPandas().plot.bar(x='Country')"
   ]
  },
  {
   "cell_type": "code",
   "execution_count": 17,
   "id": "3b70118a",
   "metadata": {},
   "outputs": [],
   "source": [
    "# spark.conf.set('spark.sql.repl.eagerEval.enabled', False)"
   ]
  },
  {
   "cell_type": "code",
   "execution_count": 25,
   "id": "75e55317",
   "metadata": {},
   "outputs": [
    {
     "data": {
      "text/html": [
       "<table border='1'>\n",
       "<tr><th>InvoiceNo</th><th>StockCode</th><th>Description</th><th>Quantity</th><th>InvoiceDate</th><th>UnitPrice</th><th>CustomerID</th><th>Country</th></tr>\n",
       "<tr><td>536365</td><td>85123A</td><td>WHITE HANGING HEA...</td><td>6</td><td>2010-12-01 08:26:00</td><td>2.55</td><td>17850</td><td>United Kingdom</td></tr>\n",
       "<tr><td>536365</td><td>71053</td><td>WHITE METAL LANTERN</td><td>6</td><td>2010-12-01 08:26:00</td><td>3.39</td><td>17850</td><td>United Kingdom</td></tr>\n",
       "<tr><td>536365</td><td>84406B</td><td>CREAM CUPID HEART...</td><td>8</td><td>2010-12-01 08:26:00</td><td>2.75</td><td>17850</td><td>United Kingdom</td></tr>\n",
       "<tr><td>536365</td><td>84029G</td><td>KNITTED UNION FLA...</td><td>6</td><td>2010-12-01 08:26:00</td><td>3.39</td><td>17850</td><td>United Kingdom</td></tr>\n",
       "<tr><td>536365</td><td>84029E</td><td>RED WOOLLY HOTTIE...</td><td>6</td><td>2010-12-01 08:26:00</td><td>3.39</td><td>17850</td><td>United Kingdom</td></tr>\n",
       "<tr><td>536365</td><td>22752</td><td>SET 7 BABUSHKA NE...</td><td>2</td><td>2010-12-01 08:26:00</td><td>7.65</td><td>17850</td><td>United Kingdom</td></tr>\n",
       "<tr><td>536365</td><td>21730</td><td>GLASS STAR FROSTE...</td><td>6</td><td>2010-12-01 08:26:00</td><td>4.25</td><td>17850</td><td>United Kingdom</td></tr>\n",
       "<tr><td>536366</td><td>22633</td><td>HAND WARMER UNION...</td><td>6</td><td>2010-12-01 08:28:00</td><td>1.85</td><td>17850</td><td>United Kingdom</td></tr>\n",
       "<tr><td>536366</td><td>22632</td><td>HAND WARMER RED P...</td><td>6</td><td>2010-12-01 08:28:00</td><td>1.85</td><td>17850</td><td>United Kingdom</td></tr>\n",
       "<tr><td>536367</td><td>84879</td><td>ASSORTED COLOUR B...</td><td>32</td><td>2010-12-01 08:34:00</td><td>1.69</td><td>13047</td><td>United Kingdom</td></tr>\n",
       "<tr><td>536367</td><td>22745</td><td>POPPY&#x27;S PLAYHOUSE...</td><td>6</td><td>2010-12-01 08:34:00</td><td>2.1</td><td>13047</td><td>United Kingdom</td></tr>\n",
       "<tr><td>536367</td><td>22748</td><td>POPPY&#x27;S PLAYHOUSE...</td><td>6</td><td>2010-12-01 08:34:00</td><td>2.1</td><td>13047</td><td>United Kingdom</td></tr>\n",
       "<tr><td>536367</td><td>22749</td><td>FELTCRAFT PRINCES...</td><td>8</td><td>2010-12-01 08:34:00</td><td>3.75</td><td>13047</td><td>United Kingdom</td></tr>\n",
       "<tr><td>536367</td><td>22310</td><td>IVORY KNITTED MUG...</td><td>6</td><td>2010-12-01 08:34:00</td><td>1.65</td><td>13047</td><td>United Kingdom</td></tr>\n",
       "<tr><td>536367</td><td>84969</td><td>BOX OF 6 ASSORTED...</td><td>6</td><td>2010-12-01 08:34:00</td><td>4.25</td><td>13047</td><td>United Kingdom</td></tr>\n",
       "<tr><td>536367</td><td>22623</td><td>BOX OF VINTAGE JI...</td><td>3</td><td>2010-12-01 08:34:00</td><td>4.95</td><td>13047</td><td>United Kingdom</td></tr>\n",
       "<tr><td>536367</td><td>22622</td><td>BOX OF VINTAGE AL...</td><td>2</td><td>2010-12-01 08:34:00</td><td>9.95</td><td>13047</td><td>United Kingdom</td></tr>\n",
       "<tr><td>536367</td><td>21754</td><td>HOME BUILDING BLO...</td><td>3</td><td>2010-12-01 08:34:00</td><td>5.95</td><td>13047</td><td>United Kingdom</td></tr>\n",
       "<tr><td>536367</td><td>21755</td><td>LOVE BUILDING BLO...</td><td>3</td><td>2010-12-01 08:34:00</td><td>5.95</td><td>13047</td><td>United Kingdom</td></tr>\n",
       "<tr><td>536367</td><td>21777</td><td>RECIPE BOX WITH M...</td><td>4</td><td>2010-12-01 08:34:00</td><td>7.95</td><td>13047</td><td>United Kingdom</td></tr>\n",
       "</table>\n",
       "only showing top 20 rows\n"
      ],
      "text/plain": [
       "+---------+---------+--------------------+--------+-------------------+---------+----------+--------------+\n",
       "|InvoiceNo|StockCode|         Description|Quantity|        InvoiceDate|UnitPrice|CustomerID|       Country|\n",
       "+---------+---------+--------------------+--------+-------------------+---------+----------+--------------+\n",
       "|   536365|   85123A|WHITE HANGING HEA...|       6|2010-12-01 08:26:00|     2.55|     17850|United Kingdom|\n",
       "|   536365|    71053| WHITE METAL LANTERN|       6|2010-12-01 08:26:00|     3.39|     17850|United Kingdom|\n",
       "|   536365|   84406B|CREAM CUPID HEART...|       8|2010-12-01 08:26:00|     2.75|     17850|United Kingdom|\n",
       "|   536365|   84029G|KNITTED UNION FLA...|       6|2010-12-01 08:26:00|     3.39|     17850|United Kingdom|\n",
       "|   536365|   84029E|RED WOOLLY HOTTIE...|       6|2010-12-01 08:26:00|     3.39|     17850|United Kingdom|\n",
       "|   536365|    22752|SET 7 BABUSHKA NE...|       2|2010-12-01 08:26:00|     7.65|     17850|United Kingdom|\n",
       "|   536365|    21730|GLASS STAR FROSTE...|       6|2010-12-01 08:26:00|     4.25|     17850|United Kingdom|\n",
       "|   536366|    22633|HAND WARMER UNION...|       6|2010-12-01 08:28:00|     1.85|     17850|United Kingdom|\n",
       "|   536366|    22632|HAND WARMER RED P...|       6|2010-12-01 08:28:00|     1.85|     17850|United Kingdom|\n",
       "|   536367|    84879|ASSORTED COLOUR B...|      32|2010-12-01 08:34:00|     1.69|     13047|United Kingdom|\n",
       "|   536367|    22745|POPPY'S PLAYHOUSE...|       6|2010-12-01 08:34:00|      2.1|     13047|United Kingdom|\n",
       "|   536367|    22748|POPPY'S PLAYHOUSE...|       6|2010-12-01 08:34:00|      2.1|     13047|United Kingdom|\n",
       "|   536367|    22749|FELTCRAFT PRINCES...|       8|2010-12-01 08:34:00|     3.75|     13047|United Kingdom|\n",
       "|   536367|    22310|IVORY KNITTED MUG...|       6|2010-12-01 08:34:00|     1.65|     13047|United Kingdom|\n",
       "|   536367|    84969|BOX OF 6 ASSORTED...|       6|2010-12-01 08:34:00|     4.25|     13047|United Kingdom|\n",
       "|   536367|    22623|BOX OF VINTAGE JI...|       3|2010-12-01 08:34:00|     4.95|     13047|United Kingdom|\n",
       "|   536367|    22622|BOX OF VINTAGE AL...|       2|2010-12-01 08:34:00|     9.95|     13047|United Kingdom|\n",
       "|   536367|    21754|HOME BUILDING BLO...|       3|2010-12-01 08:34:00|     5.95|     13047|United Kingdom|\n",
       "|   536367|    21755|LOVE BUILDING BLO...|       3|2010-12-01 08:34:00|     5.95|     13047|United Kingdom|\n",
       "|   536367|    21777|RECIPE BOX WITH M...|       4|2010-12-01 08:34:00|     7.95|     13047|United Kingdom|\n",
       "+---------+---------+--------------------+--------+-------------------+---------+----------+--------------+\n",
       "only showing top 20 rows"
      ]
     },
     "execution_count": 25,
     "metadata": {},
     "output_type": "execute_result"
    }
   ],
   "source": [
    "# convert date values from string to timestamp type\n",
    "from pyspark.sql.types import TimestampType\n",
    "from pyspark.sql.functions import unix_timestamp\n",
    "spark.conf.set(\"spark.sql.legacy.timeParserPolicy\",\"LEGACY\")\n",
    "\n",
    "df_new = df_pyspark.withColumn('InvoiceDate', unix_timestamp(\"InvoiceDate\", 'MM/dd/yyyy HH:mm').cast(TimestampType()))\n",
    "df_new\n"
   ]
  },
  {
   "cell_type": "code",
   "execution_count": 26,
   "id": "18be6c3e",
   "metadata": {},
   "outputs": [
    {
     "name": "stdout",
     "output_type": "stream",
     "text": [
      "root\n",
      " |-- InvoiceNo: string (nullable = true)\n",
      " |-- StockCode: string (nullable = true)\n",
      " |-- Description: string (nullable = true)\n",
      " |-- Quantity: integer (nullable = true)\n",
      " |-- InvoiceDate: timestamp (nullable = true)\n",
      " |-- UnitPrice: double (nullable = true)\n",
      " |-- CustomerID: integer (nullable = true)\n",
      " |-- Country: string (nullable = true)\n",
      "\n"
     ]
    }
   ],
   "source": [
    "df_new.printSchema()"
   ]
  },
  {
   "cell_type": "code",
   "execution_count": 27,
   "id": "3d5085d4",
   "metadata": {},
   "outputs": [
    {
     "name": "stdout",
     "output_type": "stream",
     "text": [
      "+---------+---------+-----------+--------+-----------+---------+----------+-------+\n",
      "|InvoiceNo|StockCode|Description|Quantity|InvoiceDate|UnitPrice|CustomerID|Country|\n",
      "+---------+---------+-----------+--------+-----------+---------+----------+-------+\n",
      "|        0|        0|          0|       0|          0|        0|         0|      0|\n",
      "+---------+---------+-----------+--------+-----------+---------+----------+-------+\n",
      "\n"
     ]
    }
   ],
   "source": [
    "# check for missing values\n",
    "data_agg = df_pyspark.agg(*[f.count(f.when(f.isnull(c), c)).alias(c) for c in df_pyspark.columns])\n",
    "data_agg.show()"
   ]
  },
  {
   "cell_type": "code",
   "execution_count": 32,
   "id": "24ad755a",
   "metadata": {},
   "outputs": [
    {
     "data": {
      "text/html": [
       "<table border='1'>\n",
       "<tr><th>summary</th><th>Quantity</th><th>UnitPrice</th><th>CustomerID</th></tr>\n",
       "<tr><td>count</td><td>406829</td><td>406829</td><td>406829</td></tr>\n",
       "<tr><td>mean</td><td>12.06130339774205</td><td>3.46047101853651</td><td>15287.690570239585</td></tr>\n",
       "<tr><td>stddev</td><td>248.69337001882474</td><td>69.31516172321444</td><td>1713.6003033215982</td></tr>\n",
       "<tr><td>min</td><td>-80995</td><td>0.0</td><td>12346</td></tr>\n",
       "<tr><td>max</td><td>80995</td><td>38970.0</td><td>18287</td></tr>\n",
       "</table>\n"
      ],
      "text/plain": [
       "+-------+------------------+-----------------+------------------+\n",
       "|summary|          Quantity|        UnitPrice|        CustomerID|\n",
       "+-------+------------------+-----------------+------------------+\n",
       "|  count|            406829|           406829|            406829|\n",
       "|   mean| 12.06130339774205| 3.46047101853651|15287.690570239585|\n",
       "| stddev|248.69337001882474|69.31516172321444|1713.6003033215982|\n",
       "|    min|            -80995|              0.0|             12346|\n",
       "|    max|             80995|          38970.0|             18287|\n",
       "+-------+------------------+-----------------+------------------+"
      ]
     },
     "execution_count": 32,
     "metadata": {},
     "output_type": "execute_result"
    }
   ],
   "source": [
    "df_new.select(['Quantity', 'UnitPrice', 'CustomerID']).describe()"
   ]
  },
  {
   "cell_type": "markdown",
   "id": "74c0a913",
   "metadata": {},
   "source": [
    "#### Remove Quantity with negative values"
   ]
  },
  {
   "cell_type": "code",
   "execution_count": 33,
   "id": "865657a6",
   "metadata": {},
   "outputs": [],
   "source": [
    "df_new = df_new.filter(df_new['quantity'] > 0)"
   ]
  },
  {
   "cell_type": "code",
   "execution_count": 34,
   "id": "d0f1b901",
   "metadata": {},
   "outputs": [
    {
     "data": {
      "text/html": [
       "<table border='1'>\n",
       "<tr><th>summary</th><th>Quantity</th><th>UnitPrice</th><th>CustomerID</th></tr>\n",
       "<tr><td>count</td><td>397924</td><td>397924</td><td>397924</td></tr>\n",
       "<tr><td>mean</td><td>13.021823262733587</td><td>3.116174480554297</td><td>15294.315170736121</td></tr>\n",
       "<tr><td>stddev</td><td>180.4202099169815</td><td>22.09678803168587</td><td>1713.1698773382175</td></tr>\n",
       "<tr><td>min</td><td>1</td><td>0.0</td><td>12346</td></tr>\n",
       "<tr><td>max</td><td>80995</td><td>8142.75</td><td>18287</td></tr>\n",
       "</table>\n"
      ],
      "text/plain": [
       "+-------+------------------+-----------------+------------------+\n",
       "|summary|          Quantity|        UnitPrice|        CustomerID|\n",
       "+-------+------------------+-----------------+------------------+\n",
       "|  count|            397924|           397924|            397924|\n",
       "|   mean|13.021823262733587|3.116174480554297|15294.315170736121|\n",
       "| stddev| 180.4202099169815|22.09678803168587|1713.1698773382175|\n",
       "|    min|                 1|              0.0|             12346|\n",
       "|    max|             80995|          8142.75|             18287|\n",
       "+-------+------------------+-----------------+------------------+"
      ]
     },
     "execution_count": 34,
     "metadata": {},
     "output_type": "execute_result"
    }
   ],
   "source": [
    "df_new.select(['Quantity', 'UnitPrice', 'CustomerID']).describe()"
   ]
  },
  {
   "cell_type": "markdown",
   "id": "ec3be40a",
   "metadata": {},
   "source": [
    "#### Add the column - amount_spent"
   ]
  },
  {
   "cell_type": "code",
   "execution_count": 39,
   "id": "f2317060",
   "metadata": {},
   "outputs": [
    {
     "data": {
      "text/html": [
       "<table border='1'>\n",
       "<tr><th>InvoiceNo</th><th>InvoiceDate</th><th>StockCode</th><th>Description</th><th>Quantity</th><th>UnitPrice</th><th>Amount_Spent</th><th>CustomerID</th><th>Country</th></tr>\n",
       "<tr><td>536365</td><td>2010-12-01 08:26:00</td><td>85123A</td><td>WHITE HANGING HEA...</td><td>6</td><td>2.55</td><td>15.3</td><td>17850</td><td>United Kingdom</td></tr>\n",
       "<tr><td>536365</td><td>2010-12-01 08:26:00</td><td>71053</td><td>WHITE METAL LANTERN</td><td>6</td><td>3.39</td><td>20.34</td><td>17850</td><td>United Kingdom</td></tr>\n",
       "<tr><td>536365</td><td>2010-12-01 08:26:00</td><td>84406B</td><td>CREAM CUPID HEART...</td><td>8</td><td>2.75</td><td>22.0</td><td>17850</td><td>United Kingdom</td></tr>\n",
       "<tr><td>536365</td><td>2010-12-01 08:26:00</td><td>84029G</td><td>KNITTED UNION FLA...</td><td>6</td><td>3.39</td><td>20.34</td><td>17850</td><td>United Kingdom</td></tr>\n",
       "<tr><td>536365</td><td>2010-12-01 08:26:00</td><td>84029E</td><td>RED WOOLLY HOTTIE...</td><td>6</td><td>3.39</td><td>20.34</td><td>17850</td><td>United Kingdom</td></tr>\n",
       "<tr><td>536365</td><td>2010-12-01 08:26:00</td><td>22752</td><td>SET 7 BABUSHKA NE...</td><td>2</td><td>7.65</td><td>15.3</td><td>17850</td><td>United Kingdom</td></tr>\n",
       "<tr><td>536365</td><td>2010-12-01 08:26:00</td><td>21730</td><td>GLASS STAR FROSTE...</td><td>6</td><td>4.25</td><td>25.5</td><td>17850</td><td>United Kingdom</td></tr>\n",
       "<tr><td>536366</td><td>2010-12-01 08:28:00</td><td>22633</td><td>HAND WARMER UNION...</td><td>6</td><td>1.85</td><td>11.1</td><td>17850</td><td>United Kingdom</td></tr>\n",
       "<tr><td>536366</td><td>2010-12-01 08:28:00</td><td>22632</td><td>HAND WARMER RED P...</td><td>6</td><td>1.85</td><td>11.1</td><td>17850</td><td>United Kingdom</td></tr>\n",
       "<tr><td>536367</td><td>2010-12-01 08:34:00</td><td>84879</td><td>ASSORTED COLOUR B...</td><td>32</td><td>1.69</td><td>54.08</td><td>13047</td><td>United Kingdom</td></tr>\n",
       "<tr><td>536367</td><td>2010-12-01 08:34:00</td><td>22745</td><td>POPPY&#x27;S PLAYHOUSE...</td><td>6</td><td>2.1</td><td>12.6</td><td>13047</td><td>United Kingdom</td></tr>\n",
       "<tr><td>536367</td><td>2010-12-01 08:34:00</td><td>22748</td><td>POPPY&#x27;S PLAYHOUSE...</td><td>6</td><td>2.1</td><td>12.6</td><td>13047</td><td>United Kingdom</td></tr>\n",
       "<tr><td>536367</td><td>2010-12-01 08:34:00</td><td>22749</td><td>FELTCRAFT PRINCES...</td><td>8</td><td>3.75</td><td>30.0</td><td>13047</td><td>United Kingdom</td></tr>\n",
       "<tr><td>536367</td><td>2010-12-01 08:34:00</td><td>22310</td><td>IVORY KNITTED MUG...</td><td>6</td><td>1.65</td><td>9.9</td><td>13047</td><td>United Kingdom</td></tr>\n",
       "<tr><td>536367</td><td>2010-12-01 08:34:00</td><td>84969</td><td>BOX OF 6 ASSORTED...</td><td>6</td><td>4.25</td><td>25.5</td><td>13047</td><td>United Kingdom</td></tr>\n",
       "<tr><td>536367</td><td>2010-12-01 08:34:00</td><td>22623</td><td>BOX OF VINTAGE JI...</td><td>3</td><td>4.95</td><td>14.85</td><td>13047</td><td>United Kingdom</td></tr>\n",
       "<tr><td>536367</td><td>2010-12-01 08:34:00</td><td>22622</td><td>BOX OF VINTAGE AL...</td><td>2</td><td>9.95</td><td>19.9</td><td>13047</td><td>United Kingdom</td></tr>\n",
       "<tr><td>536367</td><td>2010-12-01 08:34:00</td><td>21754</td><td>HOME BUILDING BLO...</td><td>3</td><td>5.95</td><td>17.85</td><td>13047</td><td>United Kingdom</td></tr>\n",
       "<tr><td>536367</td><td>2010-12-01 08:34:00</td><td>21755</td><td>LOVE BUILDING BLO...</td><td>3</td><td>5.95</td><td>17.85</td><td>13047</td><td>United Kingdom</td></tr>\n",
       "<tr><td>536367</td><td>2010-12-01 08:34:00</td><td>21777</td><td>RECIPE BOX WITH M...</td><td>4</td><td>7.95</td><td>31.8</td><td>13047</td><td>United Kingdom</td></tr>\n",
       "</table>\n",
       "only showing top 20 rows\n"
      ],
      "text/plain": [
       "+---------+-------------------+---------+--------------------+--------+---------+------------+----------+--------------+\n",
       "|InvoiceNo|        InvoiceDate|StockCode|         Description|Quantity|UnitPrice|Amount_Spent|CustomerID|       Country|\n",
       "+---------+-------------------+---------+--------------------+--------+---------+------------+----------+--------------+\n",
       "|   536365|2010-12-01 08:26:00|   85123A|WHITE HANGING HEA...|       6|     2.55|        15.3|     17850|United Kingdom|\n",
       "|   536365|2010-12-01 08:26:00|    71053| WHITE METAL LANTERN|       6|     3.39|       20.34|     17850|United Kingdom|\n",
       "|   536365|2010-12-01 08:26:00|   84406B|CREAM CUPID HEART...|       8|     2.75|        22.0|     17850|United Kingdom|\n",
       "|   536365|2010-12-01 08:26:00|   84029G|KNITTED UNION FLA...|       6|     3.39|       20.34|     17850|United Kingdom|\n",
       "|   536365|2010-12-01 08:26:00|   84029E|RED WOOLLY HOTTIE...|       6|     3.39|       20.34|     17850|United Kingdom|\n",
       "|   536365|2010-12-01 08:26:00|    22752|SET 7 BABUSHKA NE...|       2|     7.65|        15.3|     17850|United Kingdom|\n",
       "|   536365|2010-12-01 08:26:00|    21730|GLASS STAR FROSTE...|       6|     4.25|        25.5|     17850|United Kingdom|\n",
       "|   536366|2010-12-01 08:28:00|    22633|HAND WARMER UNION...|       6|     1.85|        11.1|     17850|United Kingdom|\n",
       "|   536366|2010-12-01 08:28:00|    22632|HAND WARMER RED P...|       6|     1.85|        11.1|     17850|United Kingdom|\n",
       "|   536367|2010-12-01 08:34:00|    84879|ASSORTED COLOUR B...|      32|     1.69|       54.08|     13047|United Kingdom|\n",
       "|   536367|2010-12-01 08:34:00|    22745|POPPY'S PLAYHOUSE...|       6|      2.1|        12.6|     13047|United Kingdom|\n",
       "|   536367|2010-12-01 08:34:00|    22748|POPPY'S PLAYHOUSE...|       6|      2.1|        12.6|     13047|United Kingdom|\n",
       "|   536367|2010-12-01 08:34:00|    22749|FELTCRAFT PRINCES...|       8|     3.75|        30.0|     13047|United Kingdom|\n",
       "|   536367|2010-12-01 08:34:00|    22310|IVORY KNITTED MUG...|       6|     1.65|         9.9|     13047|United Kingdom|\n",
       "|   536367|2010-12-01 08:34:00|    84969|BOX OF 6 ASSORTED...|       6|     4.25|        25.5|     13047|United Kingdom|\n",
       "|   536367|2010-12-01 08:34:00|    22623|BOX OF VINTAGE JI...|       3|     4.95|       14.85|     13047|United Kingdom|\n",
       "|   536367|2010-12-01 08:34:00|    22622|BOX OF VINTAGE AL...|       2|     9.95|        19.9|     13047|United Kingdom|\n",
       "|   536367|2010-12-01 08:34:00|    21754|HOME BUILDING BLO...|       3|     5.95|       17.85|     13047|United Kingdom|\n",
       "|   536367|2010-12-01 08:34:00|    21755|LOVE BUILDING BLO...|       3|     5.95|       17.85|     13047|United Kingdom|\n",
       "|   536367|2010-12-01 08:34:00|    21777|RECIPE BOX WITH M...|       4|     7.95|        31.8|     13047|United Kingdom|\n",
       "+---------+-------------------+---------+--------------------+--------+---------+------------+----------+--------------+\n",
       "only showing top 20 rows"
      ]
     },
     "execution_count": 39,
     "metadata": {},
     "output_type": "execute_result"
    }
   ],
   "source": [
    "# add new column with amount_spent\n",
    "df_new = df_new.withColumn('Amount_Spent', df_new['Quantity']*df_new['UnitPrice'])\n",
    "# round amont_spent to 2 decimals\n",
    "df_new = df_new.withColumn(\"Amount_Spent\", f.round(df_new[\"Amount_Spent\"], 2))\n",
    "# rearrange the columns\n",
    "df_new = df_new.select(\"InvoiceNo\", \"InvoiceDate\", \"StockCode\", \"Description\", \"Quantity\", \"UnitPrice\", \"Amount_Spent\", \"CustomerID\", \"Country\")\n",
    "\n",
    "df_new"
   ]
  },
  {
   "cell_type": "markdown",
   "id": "2f2fbff3",
   "metadata": {},
   "source": [
    "#### Add the columns - Month, Day and Hour for the invoice"
   ]
  },
  {
   "cell_type": "markdown",
   "id": "f9008145",
   "metadata": {},
   "source": [
    "Here for the day, we make +2 for the resulted day output from timestamp to make Monday=1.....\n",
    "Until Sunday=7"
   ]
  },
  {
   "cell_type": "code",
   "execution_count": 63,
   "id": "2e1f3dd1",
   "metadata": {},
   "outputs": [
    {
     "data": {
      "text/html": [
       "<table border='1'>\n",
       "<tr><th>InvoiceNo</th><th>InvoiceDate</th><th>year_month</th><th>month</th><th>day</th><th>hour</th><th>StockCode</th><th>Description</th><th>Quantity</th><th>UnitPrice</th><th>Amount_Spent</th><th>CustomerID</th><th>Country</th></tr>\n",
       "<tr><td>536365</td><td>2010-12-01 08:26:00</td><td>201012</td><td>12</td><td>3</td><td>8</td><td>85123A</td><td>WHITE HANGING HEA...</td><td>6</td><td>2.55</td><td>15.3</td><td>17850</td><td>United Kingdom</td></tr>\n",
       "<tr><td>536365</td><td>2010-12-01 08:26:00</td><td>201012</td><td>12</td><td>3</td><td>8</td><td>71053</td><td>WHITE METAL LANTERN</td><td>6</td><td>3.39</td><td>20.34</td><td>17850</td><td>United Kingdom</td></tr>\n",
       "<tr><td>536365</td><td>2010-12-01 08:26:00</td><td>201012</td><td>12</td><td>3</td><td>8</td><td>84406B</td><td>CREAM CUPID HEART...</td><td>8</td><td>2.75</td><td>22.0</td><td>17850</td><td>United Kingdom</td></tr>\n",
       "<tr><td>536365</td><td>2010-12-01 08:26:00</td><td>201012</td><td>12</td><td>3</td><td>8</td><td>84029G</td><td>KNITTED UNION FLA...</td><td>6</td><td>3.39</td><td>20.34</td><td>17850</td><td>United Kingdom</td></tr>\n",
       "<tr><td>536365</td><td>2010-12-01 08:26:00</td><td>201012</td><td>12</td><td>3</td><td>8</td><td>84029E</td><td>RED WOOLLY HOTTIE...</td><td>6</td><td>3.39</td><td>20.34</td><td>17850</td><td>United Kingdom</td></tr>\n",
       "<tr><td>536365</td><td>2010-12-01 08:26:00</td><td>201012</td><td>12</td><td>3</td><td>8</td><td>22752</td><td>SET 7 BABUSHKA NE...</td><td>2</td><td>7.65</td><td>15.3</td><td>17850</td><td>United Kingdom</td></tr>\n",
       "<tr><td>536365</td><td>2010-12-01 08:26:00</td><td>201012</td><td>12</td><td>3</td><td>8</td><td>21730</td><td>GLASS STAR FROSTE...</td><td>6</td><td>4.25</td><td>25.5</td><td>17850</td><td>United Kingdom</td></tr>\n",
       "<tr><td>536366</td><td>2010-12-01 08:28:00</td><td>201012</td><td>12</td><td>3</td><td>8</td><td>22633</td><td>HAND WARMER UNION...</td><td>6</td><td>1.85</td><td>11.1</td><td>17850</td><td>United Kingdom</td></tr>\n",
       "<tr><td>536366</td><td>2010-12-01 08:28:00</td><td>201012</td><td>12</td><td>3</td><td>8</td><td>22632</td><td>HAND WARMER RED P...</td><td>6</td><td>1.85</td><td>11.1</td><td>17850</td><td>United Kingdom</td></tr>\n",
       "<tr><td>536367</td><td>2010-12-01 08:34:00</td><td>201012</td><td>12</td><td>3</td><td>8</td><td>84879</td><td>ASSORTED COLOUR B...</td><td>32</td><td>1.69</td><td>54.08</td><td>13047</td><td>United Kingdom</td></tr>\n",
       "<tr><td>536367</td><td>2010-12-01 08:34:00</td><td>201012</td><td>12</td><td>3</td><td>8</td><td>22745</td><td>POPPY&#x27;S PLAYHOUSE...</td><td>6</td><td>2.1</td><td>12.6</td><td>13047</td><td>United Kingdom</td></tr>\n",
       "<tr><td>536367</td><td>2010-12-01 08:34:00</td><td>201012</td><td>12</td><td>3</td><td>8</td><td>22748</td><td>POPPY&#x27;S PLAYHOUSE...</td><td>6</td><td>2.1</td><td>12.6</td><td>13047</td><td>United Kingdom</td></tr>\n",
       "<tr><td>536367</td><td>2010-12-01 08:34:00</td><td>201012</td><td>12</td><td>3</td><td>8</td><td>22749</td><td>FELTCRAFT PRINCES...</td><td>8</td><td>3.75</td><td>30.0</td><td>13047</td><td>United Kingdom</td></tr>\n",
       "<tr><td>536367</td><td>2010-12-01 08:34:00</td><td>201012</td><td>12</td><td>3</td><td>8</td><td>22310</td><td>IVORY KNITTED MUG...</td><td>6</td><td>1.65</td><td>9.9</td><td>13047</td><td>United Kingdom</td></tr>\n",
       "<tr><td>536367</td><td>2010-12-01 08:34:00</td><td>201012</td><td>12</td><td>3</td><td>8</td><td>84969</td><td>BOX OF 6 ASSORTED...</td><td>6</td><td>4.25</td><td>25.5</td><td>13047</td><td>United Kingdom</td></tr>\n",
       "<tr><td>536367</td><td>2010-12-01 08:34:00</td><td>201012</td><td>12</td><td>3</td><td>8</td><td>22623</td><td>BOX OF VINTAGE JI...</td><td>3</td><td>4.95</td><td>14.85</td><td>13047</td><td>United Kingdom</td></tr>\n",
       "<tr><td>536367</td><td>2010-12-01 08:34:00</td><td>201012</td><td>12</td><td>3</td><td>8</td><td>22622</td><td>BOX OF VINTAGE AL...</td><td>2</td><td>9.95</td><td>19.9</td><td>13047</td><td>United Kingdom</td></tr>\n",
       "<tr><td>536367</td><td>2010-12-01 08:34:00</td><td>201012</td><td>12</td><td>3</td><td>8</td><td>21754</td><td>HOME BUILDING BLO...</td><td>3</td><td>5.95</td><td>17.85</td><td>13047</td><td>United Kingdom</td></tr>\n",
       "<tr><td>536367</td><td>2010-12-01 08:34:00</td><td>201012</td><td>12</td><td>3</td><td>8</td><td>21755</td><td>LOVE BUILDING BLO...</td><td>3</td><td>5.95</td><td>17.85</td><td>13047</td><td>United Kingdom</td></tr>\n",
       "<tr><td>536367</td><td>2010-12-01 08:34:00</td><td>201012</td><td>12</td><td>3</td><td>8</td><td>21777</td><td>RECIPE BOX WITH M...</td><td>4</td><td>7.95</td><td>31.8</td><td>13047</td><td>United Kingdom</td></tr>\n",
       "</table>\n",
       "only showing top 20 rows\n"
      ],
      "text/plain": [
       "+---------+-------------------+----------+-----+---+----+---------+--------------------+--------+---------+------------+----------+--------------+\n",
       "|InvoiceNo|        InvoiceDate|year_month|month|day|hour|StockCode|         Description|Quantity|UnitPrice|Amount_Spent|CustomerID|       Country|\n",
       "+---------+-------------------+----------+-----+---+----+---------+--------------------+--------+---------+------------+----------+--------------+\n",
       "|   536365|2010-12-01 08:26:00|    201012|   12|  3|   8|   85123A|WHITE HANGING HEA...|       6|     2.55|        15.3|     17850|United Kingdom|\n",
       "|   536365|2010-12-01 08:26:00|    201012|   12|  3|   8|    71053| WHITE METAL LANTERN|       6|     3.39|       20.34|     17850|United Kingdom|\n",
       "|   536365|2010-12-01 08:26:00|    201012|   12|  3|   8|   84406B|CREAM CUPID HEART...|       8|     2.75|        22.0|     17850|United Kingdom|\n",
       "|   536365|2010-12-01 08:26:00|    201012|   12|  3|   8|   84029G|KNITTED UNION FLA...|       6|     3.39|       20.34|     17850|United Kingdom|\n",
       "|   536365|2010-12-01 08:26:00|    201012|   12|  3|   8|   84029E|RED WOOLLY HOTTIE...|       6|     3.39|       20.34|     17850|United Kingdom|\n",
       "|   536365|2010-12-01 08:26:00|    201012|   12|  3|   8|    22752|SET 7 BABUSHKA NE...|       2|     7.65|        15.3|     17850|United Kingdom|\n",
       "|   536365|2010-12-01 08:26:00|    201012|   12|  3|   8|    21730|GLASS STAR FROSTE...|       6|     4.25|        25.5|     17850|United Kingdom|\n",
       "|   536366|2010-12-01 08:28:00|    201012|   12|  3|   8|    22633|HAND WARMER UNION...|       6|     1.85|        11.1|     17850|United Kingdom|\n",
       "|   536366|2010-12-01 08:28:00|    201012|   12|  3|   8|    22632|HAND WARMER RED P...|       6|     1.85|        11.1|     17850|United Kingdom|\n",
       "|   536367|2010-12-01 08:34:00|    201012|   12|  3|   8|    84879|ASSORTED COLOUR B...|      32|     1.69|       54.08|     13047|United Kingdom|\n",
       "|   536367|2010-12-01 08:34:00|    201012|   12|  3|   8|    22745|POPPY'S PLAYHOUSE...|       6|      2.1|        12.6|     13047|United Kingdom|\n",
       "|   536367|2010-12-01 08:34:00|    201012|   12|  3|   8|    22748|POPPY'S PLAYHOUSE...|       6|      2.1|        12.6|     13047|United Kingdom|\n",
       "|   536367|2010-12-01 08:34:00|    201012|   12|  3|   8|    22749|FELTCRAFT PRINCES...|       8|     3.75|        30.0|     13047|United Kingdom|\n",
       "|   536367|2010-12-01 08:34:00|    201012|   12|  3|   8|    22310|IVORY KNITTED MUG...|       6|     1.65|         9.9|     13047|United Kingdom|\n",
       "|   536367|2010-12-01 08:34:00|    201012|   12|  3|   8|    84969|BOX OF 6 ASSORTED...|       6|     4.25|        25.5|     13047|United Kingdom|\n",
       "|   536367|2010-12-01 08:34:00|    201012|   12|  3|   8|    22623|BOX OF VINTAGE JI...|       3|     4.95|       14.85|     13047|United Kingdom|\n",
       "|   536367|2010-12-01 08:34:00|    201012|   12|  3|   8|    22622|BOX OF VINTAGE AL...|       2|     9.95|        19.9|     13047|United Kingdom|\n",
       "|   536367|2010-12-01 08:34:00|    201012|   12|  3|   8|    21754|HOME BUILDING BLO...|       3|     5.95|       17.85|     13047|United Kingdom|\n",
       "|   536367|2010-12-01 08:34:00|    201012|   12|  3|   8|    21755|LOVE BUILDING BLO...|       3|     5.95|       17.85|     13047|United Kingdom|\n",
       "|   536367|2010-12-01 08:34:00|    201012|   12|  3|   8|    21777|RECIPE BOX WITH M...|       4|     7.95|        31.8|     13047|United Kingdom|\n",
       "+---------+-------------------+----------+-----+---+----+---------+--------------------+--------+---------+------------+----------+--------------+\n",
       "only showing top 20 rows"
      ]
     },
     "execution_count": 63,
     "metadata": {},
     "output_type": "execute_result"
    }
   ],
   "source": [
    "df_st = df_new.rdd \\\n",
    "    .map(lambda x: \n",
    "         (x[\"InvoiceNo\"], \n",
    "          x[\"InvoiceDate\"],\n",
    "          100*x[\"InvoiceDate\"].year + x[\"InvoiceDate\"].month, \n",
    "          x[\"InvoiceDate\"].month,\n",
    "          x[\"InvoiceDate\"].day+2,\n",
    "          x[\"InvoiceDate\"].hour,\n",
    "          x[\"StockCode\"], \n",
    "          x[\"Description\"],\n",
    "          x[\"Quantity\"], \n",
    "          x[\"UnitPrice\"],\n",
    "          x[\"Amount_Spent\"], \n",
    "          x[\"CustomerID\"],\n",
    "          x[\"Country\"])) \\\n",
    "    .toDF([\"InvoiceNo\", \"InvoiceDate\", \"year_month\", \n",
    "           \"month\", \n",
    "           \"day\", \n",
    "           \"hour\", \n",
    "           \"StockCode\", \"Description\", \"Quantity\", \"UnitPrice\", \"Amount_Spent\", \"CustomerID\", \n",
    "           \"Country\"])\n",
    "df_st\n"
   ]
  },
  {
   "cell_type": "markdown",
   "id": "12120bdf",
   "metadata": {},
   "source": [
    "### Calculating how many orders made by the customers"
   ]
  },
  {
   "cell_type": "markdown",
   "id": "f0a0ead8",
   "metadata": {},
   "source": [
    "#### Find the top 10 customers with most number of orders"
   ]
  },
  {
   "cell_type": "code",
   "execution_count": 138,
   "id": "d054bf41",
   "metadata": {
    "scrolled": true
   },
   "outputs": [
    {
     "name": "stdout",
     "output_type": "stream",
     "text": [
      "+----------+--------------+---------------+\n",
      "|CustomerID|       Country|count_InvoiceNo|\n",
      "+----------+--------------+---------------+\n",
      "|     17841|United Kingdom|           7847|\n",
      "|     14911|          EIRE|           5677|\n",
      "|     14096|United Kingdom|           5111|\n",
      "|     12748|United Kingdom|           4596|\n",
      "|     14606|United Kingdom|           2700|\n",
      "|     15311|United Kingdom|           2379|\n",
      "|     14646|   Netherlands|           2080|\n",
      "|     13089|United Kingdom|           1818|\n",
      "|     13263|United Kingdom|           1677|\n",
      "|     14298|United Kingdom|           1637|\n",
      "+----------+--------------+---------------+\n",
      "only showing top 10 rows\n",
      "\n"
     ]
    }
   ],
   "source": [
    "from pyspark.sql.functions import count, avg\n",
    "\n",
    "df_orders = df_st.groupBy(\"CustomerID\", \"Country\").agg(count(\"InvoiceNo\").alias('count_InvoiceNo')).sort('count_InvoiceNo', ascending=False)\n",
    "df_orders.show(10)\n",
    "\n"
   ]
  },
  {
   "cell_type": "code",
   "execution_count": 141,
   "id": "3dcdcc23",
   "metadata": {},
   "outputs": [
    {
     "data": {
      "image/png": "[encoded data removed]",
      "text/plain": [
       "<Figure size 1296x504 with 1 Axes>"
      ]
     },
     "metadata": {},
     "output_type": "display_data"
    }
   ],
   "source": [
    "df_orders_pd = df_orders.limit(10).toPandas()\n",
    "\n",
    "# plot in a graph\n",
    "fig_dims = (18, 7)\n",
    "plt.subplots(figsize=fig_dims)\n",
    "sns.set_style(\"whitegrid\")\n",
    "b = sns.barplot(data=df_orders_pd, x='CustomerID', y='count_InvoiceNo', palette='magma_r', order=df_orders_pd['CustomerID'])\n",
    "b.axes.set_title(\"TOP 10 customers with most number of order\",fontsize=20)\n",
    "b.set_xlabel(\"Customer ID\",fontsize=16)\n",
    "b.set_ylabel(\"No. of Orders\",fontsize=16)\n",
    "\n",
    "\n",
    "plt.show()\n"
   ]
  },
  {
   "cell_type": "markdown",
   "id": "13764674",
   "metadata": {},
   "source": [
    "### Ckecking how much money spent by the customers?"
   ]
  },
  {
   "cell_type": "code",
   "execution_count": 91,
   "id": "5c9cafc7",
   "metadata": {},
   "outputs": [
    {
     "name": "stdout",
     "output_type": "stream",
     "text": [
      "+----------+-----------------+\n",
      "|CustomerID|sum(Amount_Spent)|\n",
      "+----------+-----------------+\n",
      "|     15194|7616.530000000001|\n",
      "|     17048|925.3500000000001|\n",
      "|     13098|         28882.44|\n",
      "|     15057|           1489.5|\n",
      "|     18196|689.1300000000001|\n",
      "+----------+-----------------+\n",
      "only showing top 5 rows\n",
      "\n"
     ]
    }
   ],
   "source": [
    "df_amount_spent = df_st.groupBy('CustomerID').agg({'Amount_Spent':'sum'})\n",
    "df_amount_spent.show(5)"
   ]
  },
  {
   "cell_type": "code",
   "execution_count": 95,
   "id": "6197e906",
   "metadata": {
    "scrolled": true
   },
   "outputs": [
    {
     "name": "stdout",
     "output_type": "stream",
     "text": [
      "+----------+------------------+\n",
      "|CustomerID| sum(Amount_Spent)|\n",
      "+----------+------------------+\n",
      "|     14646|280206.01999999984|\n",
      "|     18102|259657.29999999996|\n",
      "|     17450|194550.78999999998|\n",
      "|     16446|          168472.5|\n",
      "|     14911|143825.06000000006|\n",
      "+----------+------------------+\n",
      "only showing top 5 rows\n",
      "\n"
     ]
    }
   ],
   "source": [
    "# top 5 customers with highest money spent \n",
    "df_amount_spent_sorted = df_amount_spent.sort('sum(Amount_Spent)', ascending=False)\n",
    "df_amount_spent_sorted.show(5)"
   ]
  },
  {
   "cell_type": "code",
   "execution_count": 143,
   "id": "d606f423",
   "metadata": {
    "scrolled": true
   },
   "outputs": [
    {
     "name": "stdout",
     "output_type": "stream",
     "text": [
      "+----------+------------------+------------------+\n",
      "|CustomerID| sum(Amount_Spent)|Total_Amount_Spent|\n",
      "+----------+------------------+------------------+\n",
      "|     14646|280206.01999999984|         280206.02|\n",
      "|     18102|259657.29999999996|          259657.3|\n",
      "|     17450|194550.78999999998|         194550.79|\n",
      "|     16446|          168472.5|          168472.5|\n",
      "|     14911|143825.06000000006|         143825.06|\n",
      "|     12415|124914.53000000003|         124914.53|\n",
      "|     14156|117379.63000000006|         117379.63|\n",
      "|     17511|          91062.38|          91062.38|\n",
      "|     16029|          81024.84|          81024.84|\n",
      "|     12346|           77183.6|           77183.6|\n",
      "+----------+------------------+------------------+\n",
      "only showing top 10 rows\n",
      "\n"
     ]
    }
   ],
   "source": [
    "df_amount_spent_sorted = df_amount_spent_sorted.withColumn(\"Total_Amount_Spent\", f.round(df_amount_spent_sorted[\"sum(Amount_Spent)\"], 2))\n",
    "df_amount_spent_sorted.show(10)\n"
   ]
  },
  {
   "cell_type": "code",
   "execution_count": 147,
   "id": "24a4a9a2",
   "metadata": {},
   "outputs": [
    {
     "data": {
      "image/png": "[encoded data removed]",
      "text/plain": [
       "<Figure size 1296x504 with 1 Axes>"
      ]
     },
     "metadata": {},
     "output_type": "display_data"
    }
   ],
   "source": [
    "df_amount_spent_sorted_pd = df_amount_spent_sorted.limit(10).toPandas()\n",
    "\n",
    "# plot in a graph\n",
    "fig_dims = (18, 7)\n",
    "plt.subplots(figsize=fig_dims)\n",
    "sns.set_style(\"whitegrid\")\n",
    "ax = sns.barplot(data=df_amount_spent_sorted_pd, x='CustomerID', y='Total_Amount_Spent', palette='ocean', order=df_amount_spent_sorted_pd['CustomerID'])\n",
    "ax.axes.set_title(\"TOP 10 customers with most amount spent\",fontsize=20)\n",
    "ax.set_xlabel(\"Customer ID\",fontsize=16)\n",
    "ax.set_ylabel(\"Total Amount Spent\",fontsize=16)\n",
    "\n",
    "\n",
    "plt.show()"
   ]
  },
  {
   "cell_type": "markdown",
   "id": "5ee73142",
   "metadata": {},
   "source": [
    "### Checking for most bought items?"
   ]
  },
  {
   "cell_type": "markdown",
   "id": "e9a5a35d",
   "metadata": {},
   "source": [
    "#### Find out what are the most bought items in Itemcode (StockCode) wise"
   ]
  },
  {
   "cell_type": "code",
   "execution_count": 96,
   "id": "50a345b2",
   "metadata": {},
   "outputs": [
    {
     "data": {
      "text/html": [
       "<table border='1'>\n",
       "<tr><th>StockCode</th><th>count</th></tr>\n",
       "<tr><td>85123A</td><td>2035</td></tr>\n",
       "<tr><td>22423</td><td>1724</td></tr>\n",
       "<tr><td>85099B</td><td>1618</td></tr>\n",
       "<tr><td>84879</td><td>1408</td></tr>\n",
       "<tr><td>47566</td><td>1397</td></tr>\n",
       "<tr><td>20725</td><td>1317</td></tr>\n",
       "<tr><td>22720</td><td>1159</td></tr>\n",
       "<tr><td>20727</td><td>1105</td></tr>\n",
       "<tr><td>POST</td><td>1099</td></tr>\n",
       "<tr><td>23203</td><td>1098</td></tr>\n",
       "<tr><td>22383</td><td>1083</td></tr>\n",
       "<tr><td>22197</td><td>1068</td></tr>\n",
       "<tr><td>21212</td><td>1068</td></tr>\n",
       "<tr><td>23209</td><td>1029</td></tr>\n",
       "<tr><td>23298</td><td>1024</td></tr>\n",
       "<tr><td>22086</td><td>1019</td></tr>\n",
       "<tr><td>22382</td><td>1008</td></tr>\n",
       "<tr><td>20728</td><td>989</td></tr>\n",
       "<tr><td>22469</td><td>985</td></tr>\n",
       "<tr><td>22457</td><td>980</td></tr>\n",
       "</table>\n",
       "only showing top 20 rows\n"
      ],
      "text/plain": [
       "+---------+-----+\n",
       "|StockCode|count|\n",
       "+---------+-----+\n",
       "|   85123A| 2035|\n",
       "|    22423| 1724|\n",
       "|   85099B| 1618|\n",
       "|    84879| 1408|\n",
       "|    47566| 1397|\n",
       "|    20725| 1317|\n",
       "|    22720| 1159|\n",
       "|    20727| 1105|\n",
       "|     POST| 1099|\n",
       "|    23203| 1098|\n",
       "|    22383| 1083|\n",
       "|    22197| 1068|\n",
       "|    21212| 1068|\n",
       "|    23209| 1029|\n",
       "|    23298| 1024|\n",
       "|    22086| 1019|\n",
       "|    22382| 1008|\n",
       "|    20728|  989|\n",
       "|    22469|  985|\n",
       "|    22457|  980|\n",
       "+---------+-----+\n",
       "only showing top 20 rows"
      ]
     },
     "execution_count": 96,
     "metadata": {},
     "output_type": "execute_result"
    }
   ],
   "source": [
    "df_itemcode = df_st.groupBy('StockCode').count().sort('count', ascending=False)\n",
    "df_itemcode"
   ]
  },
  {
   "cell_type": "code",
   "execution_count": 101,
   "id": "96f1cc49",
   "metadata": {},
   "outputs": [
    {
     "data": {
      "image/png": "[encoded data removed]",
      "text/plain": [
       "<Figure size 1296x504 with 1 Axes>"
      ]
     },
     "metadata": {
      "needs_background": "light"
     },
     "output_type": "display_data"
    }
   ],
   "source": [
    "# import pandas as pd\n",
    "import numpy as np\n",
    "\n",
    "df_itemcode_pd = df_itemcode.limit(40).toPandas()\n",
    "plt.rcParams['figure.figsize'] = (18, 7)\n",
    "color = plt.cm.copper(np.linspace(0, 1, 40))\n",
    "df_itemcode_pd.plot.bar(color = color, x='StockCode')\n",
    "plt.title('Frequency of most bought items itemcode wise', fontsize=18)\n",
    "plt.show()"
   ]
  },
  {
   "cell_type": "code",
   "execution_count": 149,
   "id": "55c07eae",
   "metadata": {
    "scrolled": true
   },
   "outputs": [
    {
     "data": {
      "image/png": "[encoded data removed]",
      "text/plain": [
       "<Figure size 1296x504 with 1 Axes>"
      ]
     },
     "metadata": {},
     "output_type": "display_data"
    }
   ],
   "source": [
    "df_itemcode_new_pd = df_itemcode.limit(10).toPandas()\n",
    "\n",
    "# plot in a graph\n",
    "fig_dims = (18, 7)\n",
    "plt.subplots(figsize=fig_dims)\n",
    "sns.set_style(\"whitegrid\")\n",
    "ax3 = sns.barplot(data=df_itemcode_new_pd, x='StockCode', y='count', palette='cividis', order=df_itemcode_new_pd['StockCode'])\n",
    "ax3.axes.set_title(\"TOP 10 most sold items\",fontsize=20)\n",
    "ax3.set_xlabel(\"Item Code (Stock Code)\",fontsize=16)\n",
    "ax3.set_ylabel(\"No. of Items Sold\",fontsize=16)\n",
    "\n",
    "plt.show()\n"
   ]
  },
  {
   "cell_type": "markdown",
   "id": "de1ba76c",
   "metadata": {},
   "source": [
    "### Countries with most Orders"
   ]
  },
  {
   "cell_type": "markdown",
   "id": "ac94c6c9",
   "metadata": {},
   "source": [
    "#### Identifying top 5 countries with most orders"
   ]
  },
  {
   "cell_type": "code",
   "execution_count": null,
   "id": "3fa6756c",
   "metadata": {},
   "outputs": [],
   "source": [
    "# value counts of Country column\n",
    "df_country_res = df_pyspark.groupBy('Country').count().sort('count', ascending=False)\n",
    "df_country_res.show(5)"
   ]
  },
  {
   "cell_type": "code",
   "execution_count": 102,
   "id": "55d61ded",
   "metadata": {
    "scrolled": true
   },
   "outputs": [
    {
     "data": {
      "text/html": [
       "<table border='1'>\n",
       "<tr><th>Country</th><th>count</th></tr>\n",
       "<tr><td>United Kingdom</td><td>361878</td></tr>\n",
       "<tr><td>Germany</td><td>9495</td></tr>\n",
       "<tr><td>France</td><td>8491</td></tr>\n",
       "<tr><td>EIRE</td><td>7485</td></tr>\n",
       "<tr><td>Spain</td><td>2533</td></tr>\n",
       "</table>\n"
      ],
      "text/plain": [
       "+--------------+------+\n",
       "|       Country| count|\n",
       "+--------------+------+\n",
       "|United Kingdom|361878|\n",
       "|       Germany|  9495|\n",
       "|        France|  8491|\n",
       "|          EIRE|  7485|\n",
       "|         Spain|  2533|\n",
       "+--------------+------+"
      ]
     },
     "execution_count": 102,
     "metadata": {},
     "output_type": "execute_result"
    }
   ],
   "source": [
    "df_country_res = df_country_res.limit(5)\n",
    "df_country_res"
   ]
  },
  {
   "cell_type": "code",
   "execution_count": 127,
   "id": "b2df3bed",
   "metadata": {},
   "outputs": [
    {
     "data": {
      "text/plain": [
       "<Figure size 1296x504 with 0 Axes>"
      ]
     },
     "metadata": {},
     "output_type": "display_data"
    },
    {
     "data": {
      "image/png": "[encoded data removed]",
      "text/plain": [
       "<Figure size 360x360 with 1 Axes>"
      ]
     },
     "metadata": {},
     "output_type": "display_data"
    }
   ],
   "source": [
    "df_country_res_pd = df_country_res.toPandas()\n",
    "df_country_res_pd = df_country_res_pd.set_index('Country')\n",
    "# df_country_res_pd\n",
    "# df_country_res_pd.set_index('Country', inplace=True)\n",
    "plt.figure()\n",
    "# df_country_res_pd.plot(kind = 'pie', autopct='%1.1f%%', y='Country', figsize=(5, 5)) #autopct -> shows the percentage\n",
    "df_country_res_pd.plot.pie(y='count', figsize=(5, 5))\n",
    "#plt.pie(df['Country'].value_counts()[:5], autopct='%1.1f%%')  #does the same thing but w/o the country labels\n",
    "plt.title('Top 5 countries based on transactions', weight='bold')\n",
    "plt.show()\n"
   ]
  },
  {
   "cell_type": "code",
   "execution_count": 130,
   "id": "e5b97ee1",
   "metadata": {},
   "outputs": [
    {
     "data": {
      "text/html": [
       "        <script type=\"text/javascript\">\n",
       "        window.PlotlyConfig = {MathJaxConfig: 'local'};\n",
       "        if (window.MathJax) {MathJax.Hub.Config({SVG: {font: \"STIX-Web\"}});}\n",
       "        if (typeof require !== 'undefined') {\n",
       "        require.undef(\"plotly\");\n",
       "        requirejs.config({\n",
       "            paths: {\n",
       "                'plotly': ['https://cdn.plot.ly/plotly-latest.min']\n",
       "            }\n",
       "        });\n",
       "        require(['plotly'], function(Plotly) {\n",
       "            window._Plotly = Plotly;\n",
       "        });\n",
       "        }\n",
       "        </script>\n",
       "        "
      ]
     },
     "metadata": {},
     "output_type": "display_data"
    },
    {
     "data": {
      "application/vnd.plotly.v1+json": {
       "config": {
        "linkText": "Export to plot.ly",
        "plotlyServerURL": "https://plot.ly",
        "showLink": false
       },
       "data": [
        {
         "colorbar": {
          "title": {
           "text": "Order no."
          }
         },
         "colorscale": [
          [
           0,
           "rgb(224,255,255)"
          ],
          [
           0.01,
           "rgb(166,206,227)"
          ],
          [
           0.02,
           "rgb(31,120,180)"
          ],
          [
           0.03,
           "rgb(178,223,138)"
          ],
          [
           0.05,
           "rgb(51,160,44)"
          ],
          [
           0.1,
           "rgb(251,154,153)"
          ],
          [
           0.2,
           "rgb(255,255,0)"
          ],
          [
           1,
           "rgb(227,26,28)"
          ]
         ],
         "locationmode": "country names",
         "locations": [
          "United Kingdom",
          "Germany",
          "France",
          "EIRE",
          "Belgium",
          "Netherlands",
          "Spain",
          "Australia",
          "Portugal",
          "Switzerland",
          "Finland",
          "Italy",
          "Sweden",
          "Norway",
          "Channel Islands",
          "Japan",
          "Poland",
          "Denmark",
          "Austria",
          "Cyprus",
          "Unspecified",
          "Iceland",
          "Singapore",
          "Canada",
          "Greece",
          "Israel",
          "USA",
          "Malta",
          "European Community",
          "Lithuania",
          "United Arab Emirates",
          "Bahrain",
          "Czech Republic",
          "Brazil",
          "Lebanon",
          "Saudi Arabia",
          "RSA"
         ],
         "reversescale": false,
         "text": [
          "United Kingdom",
          "Germany",
          "France",
          "EIRE",
          "Belgium",
          "Netherlands",
          "Spain",
          "Australia",
          "Portugal",
          "Switzerland",
          "Finland",
          "Italy",
          "Sweden",
          "Norway",
          "Channel Islands",
          "Japan",
          "Poland",
          "Denmark",
          "Austria",
          "Cyprus",
          "Unspecified",
          "Iceland",
          "Singapore",
          "Canada",
          "Greece",
          "Israel",
          "USA",
          "Malta",
          "European Community",
          "Lithuania",
          "United Arab Emirates",
          "Bahrain",
          "Czech Republic",
          "Brazil",
          "Lebanon",
          "Saudi Arabia",
          "RSA"
         ],
         "type": "choropleth",
         "z": [
          16649,
          457,
          389,
          260,
          98,
          95,
          90,
          57,
          57,
          51,
          41,
          38,
          36,
          36,
          26,
          19,
          19,
          18,
          17,
          16,
          8,
          7,
          7,
          6,
          5,
          5,
          5,
          5,
          4,
          4,
          3,
          2,
          2,
          1,
          1,
          1,
          1
         ]
        }
       ],
       "layout": {
        "geo": {
         "projection": {
          "type": "mercator"
         },
         "showframe": true
        },
        "template": {
         "data": {
          "bar": [
           {
            "error_x": {
             "color": "#2a3f5f"
            },
            "error_y": {
             "color": "#2a3f5f"
            },
            "marker": {
             "line": {
              "color": "#E5ECF6",
              "width": 0.5
             }
            },
            "type": "bar"
           }
          ],
          "barpolar": [
           {
            "marker": {
             "line": {
              "color": "#E5ECF6",
              "width": 0.5
             }
            },
            "type": "barpolar"
           }
          ],
          "carpet": [
           {
            "aaxis": {
             "endlinecolor": "#2a3f5f",
             "gridcolor": "white",
             "linecolor": "white",
             "minorgridcolor": "white",
             "startlinecolor": "#2a3f5f"
            },
            "baxis": {
             "endlinecolor": "#2a3f5f",
             "gridcolor": "white",
             "linecolor": "white",
             "minorgridcolor": "white",
             "startlinecolor": "#2a3f5f"
            },
            "type": "carpet"
           }
          ],
          "choropleth": [
           {
            "colorbar": {
             "outlinewidth": 0,
             "ticks": ""
            },
            "type": "choropleth"
           }
          ],
          "contour": [
           {
            "colorbar": {
             "outlinewidth": 0,
             "ticks": ""
            },
            "colorscale": [
             [
              0,
              "#0d0887"
             ],
             [
              0.1111111111111111,
              "#46039f"
             ],
             [
              0.2222222222222222,
              "#7201a8"
             ],
             [
              0.3333333333333333,
              "#9c179e"
             ],
             [
              0.4444444444444444,
              "#bd3786"
             ],
             [
              0.5555555555555556,
              "#d8576b"
             ],
             [
              0.6666666666666666,
              "#ed7953"
             ],
             [
              0.7777777777777778,
              "#fb9f3a"
             ],
             [
              0.8888888888888888,
              "#fdca26"
             ],
             [
              1,
              "#f0f921"
             ]
            ],
            "type": "contour"
           }
          ],
          "contourcarpet": [
           {
            "colorbar": {
             "outlinewidth": 0,
             "ticks": ""
            },
            "type": "contourcarpet"
           }
          ],
          "heatmap": [
           {
            "colorbar": {
             "outlinewidth": 0,
             "ticks": ""
            },
            "colorscale": [
             [
              0,
              "#0d0887"
             ],
             [
              0.1111111111111111,
              "#46039f"
             ],
             [
              0.2222222222222222,
              "#7201a8"
             ],
             [
              0.3333333333333333,
              "#9c179e"
             ],
             [
              0.4444444444444444,
              "#bd3786"
             ],
             [
              0.5555555555555556,
              "#d8576b"
             ],
             [
              0.6666666666666666,
              "#ed7953"
             ],
             [
              0.7777777777777778,
              "#fb9f3a"
             ],
             [
              0.8888888888888888,
              "#fdca26"
             ],
             [
              1,
              "#f0f921"
             ]
            ],
            "type": "heatmap"
           }
          ],
          "heatmapgl": [
           {
            "colorbar": {
             "outlinewidth": 0,
             "ticks": ""
            },
            "colorscale": [
             [
              0,
              "#0d0887"
             ],
             [
              0.1111111111111111,
              "#46039f"
             ],
             [
              0.2222222222222222,
              "#7201a8"
             ],
             [
              0.3333333333333333,
              "#9c179e"
             ],
             [
              0.4444444444444444,
              "#bd3786"
             ],
             [
              0.5555555555555556,
              "#d8576b"
             ],
             [
              0.6666666666666666,
              "#ed7953"
             ],
             [
              0.7777777777777778,
              "#fb9f3a"
             ],
             [
              0.8888888888888888,
              "#fdca26"
             ],
             [
              1,
              "#f0f921"
             ]
            ],
            "type": "heatmapgl"
           }
          ],
          "histogram": [
           {
            "marker": {
             "colorbar": {
              "outlinewidth": 0,
              "ticks": ""
             }
            },
            "type": "histogram"
           }
          ],
          "histogram2d": [
           {
            "colorbar": {
             "outlinewidth": 0,
             "ticks": ""
            },
            "colorscale": [
             [
              0,
              "#0d0887"
             ],
             [
              0.1111111111111111,
              "#46039f"
             ],
             [
              0.2222222222222222,
              "#7201a8"
             ],
             [
              0.3333333333333333,
              "#9c179e"
             ],
             [
              0.4444444444444444,
              "#bd3786"
             ],
             [
              0.5555555555555556,
              "#d8576b"
             ],
             [
              0.6666666666666666,
              "#ed7953"
             ],
             [
              0.7777777777777778,
              "#fb9f3a"
             ],
             [
              0.8888888888888888,
              "#fdca26"
             ],
             [
              1,
              "#f0f921"
             ]
            ],
            "type": "histogram2d"
           }
          ],
          "histogram2dcontour": [
           {
            "colorbar": {
             "outlinewidth": 0,
             "ticks": ""
            },
            "colorscale": [
             [
              0,
              "#0d0887"
             ],
             [
              0.1111111111111111,
              "#46039f"
             ],
             [
              0.2222222222222222,
              "#7201a8"
             ],
             [
              0.3333333333333333,
              "#9c179e"
             ],
             [
              0.4444444444444444,
              "#bd3786"
             ],
             [
              0.5555555555555556,
              "#d8576b"
             ],
             [
              0.6666666666666666,
              "#ed7953"
             ],
             [
              0.7777777777777778,
              "#fb9f3a"
             ],
             [
              0.8888888888888888,
              "#fdca26"
             ],
             [
              1,
              "#f0f921"
             ]
            ],
            "type": "histogram2dcontour"
           }
          ],
          "mesh3d": [
           {
            "colorbar": {
             "outlinewidth": 0,
             "ticks": ""
            },
            "type": "mesh3d"
           }
          ],
          "parcoords": [
           {
            "line": {
             "colorbar": {
              "outlinewidth": 0,
              "ticks": ""
             }
            },
            "type": "parcoords"
           }
          ],
          "pie": [
           {
            "automargin": true,
            "type": "pie"
           }
          ],
          "scatter": [
           {
            "marker": {
             "colorbar": {
              "outlinewidth": 0,
              "ticks": ""
             }
            },
            "type": "scatter"
           }
          ],
          "scatter3d": [
           {
            "line": {
             "colorbar": {
              "outlinewidth": 0,
              "ticks": ""
             }
            },
            "marker": {
             "colorbar": {
              "outlinewidth": 0,
              "ticks": ""
             }
            },
            "type": "scatter3d"
           }
          ],
          "scattercarpet": [
           {
            "marker": {
             "colorbar": {
              "outlinewidth": 0,
              "ticks": ""
             }
            },
            "type": "scattercarpet"
           }
          ],
          "scattergeo": [
           {
            "marker": {
             "colorbar": {
              "outlinewidth": 0,
              "ticks": ""
             }
            },
            "type": "scattergeo"
           }
          ],
          "scattergl": [
           {
            "marker": {
             "colorbar": {
              "outlinewidth": 0,
              "ticks": ""
             }
            },
            "type": "scattergl"
           }
          ],
          "scattermapbox": [
           {
            "marker": {
             "colorbar": {
              "outlinewidth": 0,
              "ticks": ""
             }
            },
            "type": "scattermapbox"
           }
          ],
          "scatterpolar": [
           {
            "marker": {
             "colorbar": {
              "outlinewidth": 0,
              "ticks": ""
             }
            },
            "type": "scatterpolar"
           }
          ],
          "scatterpolargl": [
           {
            "marker": {
             "colorbar": {
              "outlinewidth": 0,
              "ticks": ""
             }
            },
            "type": "scatterpolargl"
           }
          ],
          "scatterternary": [
           {
            "marker": {
             "colorbar": {
              "outlinewidth": 0,
              "ticks": ""
             }
            },
            "type": "scatterternary"
           }
          ],
          "surface": [
           {
            "colorbar": {
             "outlinewidth": 0,
             "ticks": ""
            },
            "colorscale": [
             [
              0,
              "#0d0887"
             ],
             [
              0.1111111111111111,
              "#46039f"
             ],
             [
              0.2222222222222222,
              "#7201a8"
             ],
             [
              0.3333333333333333,
              "#9c179e"
             ],
             [
              0.4444444444444444,
              "#bd3786"
             ],
             [
              0.5555555555555556,
              "#d8576b"
             ],
             [
              0.6666666666666666,
              "#ed7953"
             ],
             [
              0.7777777777777778,
              "#fb9f3a"
             ],
             [
              0.8888888888888888,
              "#fdca26"
             ],
             [
              1,
              "#f0f921"
             ]
            ],
            "type": "surface"
           }
          ],
          "table": [
           {
            "cells": {
             "fill": {
              "color": "#EBF0F8"
             },
             "line": {
              "color": "white"
             }
            },
            "header": {
             "fill": {
              "color": "#C8D4E3"
             },
             "line": {
              "color": "white"
             }
            },
            "type": "table"
           }
          ]
         },
         "layout": {
          "annotationdefaults": {
           "arrowcolor": "#2a3f5f",
           "arrowhead": 0,
           "arrowwidth": 1
          },
          "autotypenumbers": "strict",
          "coloraxis": {
           "colorbar": {
            "outlinewidth": 0,
            "ticks": ""
           }
          },
          "colorscale": {
           "diverging": [
            [
             0,
             "#8e0152"
            ],
            [
             0.1,
             "#c51b7d"
            ],
            [
             0.2,
             "#de77ae"
            ],
            [
             0.3,
             "#f1b6da"
            ],
            [
             0.4,
             "#fde0ef"
            ],
            [
             0.5,
             "#f7f7f7"
            ],
            [
             0.6,
             "#e6f5d0"
            ],
            [
             0.7,
             "#b8e186"
            ],
            [
             0.8,
             "#7fbc41"
            ],
            [
             0.9,
             "#4d9221"
            ],
            [
             1,
             "#276419"
            ]
           ],
           "sequential": [
            [
             0,
             "#0d0887"
            ],
            [
             0.1111111111111111,
             "#46039f"
            ],
            [
             0.2222222222222222,
             "#7201a8"
            ],
            [
             0.3333333333333333,
             "#9c179e"
            ],
            [
             0.4444444444444444,
             "#bd3786"
            ],
            [
             0.5555555555555556,
             "#d8576b"
            ],
            [
             0.6666666666666666,
             "#ed7953"
            ],
            [
             0.7777777777777778,
             "#fb9f3a"
            ],
            [
             0.8888888888888888,
             "#fdca26"
            ],
            [
             1,
             "#f0f921"
            ]
           ],
           "sequentialminus": [
            [
             0,
             "#0d0887"
            ],
            [
             0.1111111111111111,
             "#46039f"
            ],
            [
             0.2222222222222222,
             "#7201a8"
            ],
            [
             0.3333333333333333,
             "#9c179e"
            ],
            [
             0.4444444444444444,
             "#bd3786"
            ],
            [
             0.5555555555555556,
             "#d8576b"
            ],
            [
             0.6666666666666666,
             "#ed7953"
            ],
            [
             0.7777777777777778,
             "#fb9f3a"
            ],
            [
             0.8888888888888888,
             "#fdca26"
            ],
            [
             1,
             "#f0f921"
            ]
           ]
          },
          "colorway": [
           "#636efa",
           "#EF553B",
           "#00cc96",
           "#ab63fa",
           "#FFA15A",
           "#19d3f3",
           "#FF6692",
           "#B6E880",
           "#FF97FF",
           "#FECB52"
          ],
          "font": {
           "color": "#2a3f5f"
          },
          "geo": {
           "bgcolor": "white",
           "lakecolor": "white",
           "landcolor": "#E5ECF6",
           "showlakes": true,
           "showland": true,
           "subunitcolor": "white"
          },
          "hoverlabel": {
           "align": "left"
          },
          "hovermode": "closest",
          "mapbox": {
           "style": "light"
          },
          "paper_bgcolor": "white",
          "plot_bgcolor": "#E5ECF6",
          "polar": {
           "angularaxis": {
            "gridcolor": "white",
            "linecolor": "white",
            "ticks": ""
           },
           "bgcolor": "#E5ECF6",
           "radialaxis": {
            "gridcolor": "white",
            "linecolor": "white",
            "ticks": ""
           }
          },
          "scene": {
           "xaxis": {
            "backgroundcolor": "#E5ECF6",
            "gridcolor": "white",
            "gridwidth": 2,
            "linecolor": "white",
            "showbackground": true,
            "ticks": "",
            "zerolinecolor": "white"
           },
           "yaxis": {
            "backgroundcolor": "#E5ECF6",
            "gridcolor": "white",
            "gridwidth": 2,
            "linecolor": "white",
            "showbackground": true,
            "ticks": "",
            "zerolinecolor": "white"
           },
           "zaxis": {
            "backgroundcolor": "#E5ECF6",
            "gridcolor": "white",
            "gridwidth": 2,
            "linecolor": "white",
            "showbackground": true,
            "ticks": "",
            "zerolinecolor": "white"
           }
          },
          "shapedefaults": {
           "line": {
            "color": "#2a3f5f"
           }
          },
          "ternary": {
           "aaxis": {
            "gridcolor": "white",
            "linecolor": "white",
            "ticks": ""
           },
           "baxis": {
            "gridcolor": "white",
            "linecolor": "white",
            "ticks": ""
           },
           "bgcolor": "#E5ECF6",
           "caxis": {
            "gridcolor": "white",
            "linecolor": "white",
            "ticks": ""
           }
          },
          "title": {
           "x": 0.05
          },
          "xaxis": {
           "automargin": true,
           "gridcolor": "white",
           "linecolor": "white",
           "ticks": "",
           "title": {
            "standoff": 15
           },
           "zerolinecolor": "white",
           "zerolinewidth": 2
          },
          "yaxis": {
           "automargin": true,
           "gridcolor": "white",
           "linecolor": "white",
           "ticks": "",
           "title": {
            "standoff": 15
           },
           "zerolinecolor": "white",
           "zerolinewidth": 2
          }
         }
        },
        "title": {
         "text": "Number of orders per country"
        }
       }
      },
      "text/html": [
       "<div>                            <div id=\"5335133d-d76c-481e-80d1-c8e9063ffef4\" class=\"plotly-graph-div\" style=\"height:525px; width:100%;\"></div>            <script type=\"text/javascript\">                require([\"plotly\"], function(Plotly) {                    window.PLOTLYENV=window.PLOTLYENV || {};                                    if (document.getElementById(\"5335133d-d76c-481e-80d1-c8e9063ffef4\")) {                    Plotly.newPlot(                        \"5335133d-d76c-481e-80d1-c8e9063ffef4\",                        [{\"colorbar\": {\"title\": {\"text\": \"Order no.\"}}, \"colorscale\": [[0, \"rgb(224,255,255)\"], [0.01, \"rgb(166,206,227)\"], [0.02, \"rgb(31,120,180)\"], [0.03, \"rgb(178,223,138)\"], [0.05, \"rgb(51,160,44)\"], [0.1, \"rgb(251,154,153)\"], [0.2, \"rgb(255,255,0)\"], [1, \"rgb(227,26,28)\"]], \"locationmode\": \"country names\", \"locations\": [\"United Kingdom\", \"Germany\", \"France\", \"EIRE\", \"Belgium\", \"Netherlands\", \"Spain\", \"Australia\", \"Portugal\", \"Switzerland\", \"Finland\", \"Italy\", \"Sweden\", \"Norway\", \"Channel Islands\", \"Japan\", \"Poland\", \"Denmark\", \"Austria\", \"Cyprus\", \"Unspecified\", \"Iceland\", \"Singapore\", \"Canada\", \"Greece\", \"Israel\", \"USA\", \"Malta\", \"European Community\", \"Lithuania\", \"United Arab Emirates\", \"Bahrain\", \"Czech Republic\", \"Brazil\", \"Lebanon\", \"Saudi Arabia\", \"RSA\"], \"reversescale\": false, \"text\": [\"United Kingdom\", \"Germany\", \"France\", \"EIRE\", \"Belgium\", \"Netherlands\", \"Spain\", \"Australia\", \"Portugal\", \"Switzerland\", \"Finland\", \"Italy\", \"Sweden\", \"Norway\", \"Channel Islands\", \"Japan\", \"Poland\", \"Denmark\", \"Austria\", \"Cyprus\", \"Unspecified\", \"Iceland\", \"Singapore\", \"Canada\", \"Greece\", \"Israel\", \"USA\", \"Malta\", \"European Community\", \"Lithuania\", \"United Arab Emirates\", \"Bahrain\", \"Czech Republic\", \"Brazil\", \"Lebanon\", \"Saudi Arabia\", \"RSA\"], \"type\": \"choropleth\", \"z\": [16649, 457, 389, 260, 98, 95, 90, 57, 57, 51, 41, 38, 36, 36, 26, 19, 19, 18, 17, 16, 8, 7, 7, 6, 5, 5, 5, 5, 4, 4, 3, 2, 2, 1, 1, 1, 1]}],                        {\"geo\": {\"projection\": {\"type\": \"mercator\"}, \"showframe\": true}, \"template\": {\"data\": {\"bar\": [{\"error_x\": {\"color\": \"#2a3f5f\"}, \"error_y\": {\"color\": \"#2a3f5f\"}, \"marker\": {\"line\": {\"color\": \"#E5ECF6\", \"width\": 0.5}}, \"type\": \"bar\"}], \"barpolar\": [{\"marker\": {\"line\": {\"color\": \"#E5ECF6\", \"width\": 0.5}}, \"type\": \"barpolar\"}], \"carpet\": [{\"aaxis\": {\"endlinecolor\": \"#2a3f5f\", \"gridcolor\": \"white\", \"linecolor\": \"white\", \"minorgridcolor\": \"white\", \"startlinecolor\": \"#2a3f5f\"}, \"baxis\": {\"endlinecolor\": \"#2a3f5f\", \"gridcolor\": \"white\", \"linecolor\": \"white\", \"minorgridcolor\": \"white\", \"startlinecolor\": \"#2a3f5f\"}, \"type\": \"carpet\"}], \"choropleth\": [{\"colorbar\": {\"outlinewidth\": 0, \"ticks\": \"\"}, \"type\": \"choropleth\"}], \"contour\": [{\"colorbar\": {\"outlinewidth\": 0, \"ticks\": \"\"}, \"colorscale\": [[0.0, \"#0d0887\"], [0.1111111111111111, \"#46039f\"], [0.2222222222222222, \"#7201a8\"], [0.3333333333333333, \"#9c179e\"], [0.4444444444444444, \"#bd3786\"], [0.5555555555555556, \"#d8576b\"], [0.6666666666666666, \"#ed7953\"], [0.7777777777777778, \"#fb9f3a\"], [0.8888888888888888, \"#fdca26\"], [1.0, \"#f0f921\"]], \"type\": \"contour\"}], \"contourcarpet\": [{\"colorbar\": {\"outlinewidth\": 0, \"ticks\": \"\"}, \"type\": \"contourcarpet\"}], \"heatmap\": [{\"colorbar\": {\"outlinewidth\": 0, \"ticks\": \"\"}, \"colorscale\": [[0.0, \"#0d0887\"], [0.1111111111111111, \"#46039f\"], [0.2222222222222222, \"#7201a8\"], [0.3333333333333333, \"#9c179e\"], [0.4444444444444444, \"#bd3786\"], [0.5555555555555556, \"#d8576b\"], [0.6666666666666666, \"#ed7953\"], [0.7777777777777778, \"#fb9f3a\"], [0.8888888888888888, \"#fdca26\"], [1.0, \"#f0f921\"]], \"type\": \"heatmap\"}], \"heatmapgl\": [{\"colorbar\": {\"outlinewidth\": 0, \"ticks\": \"\"}, \"colorscale\": [[0.0, \"#0d0887\"], [0.1111111111111111, \"#46039f\"], [0.2222222222222222, \"#7201a8\"], [0.3333333333333333, \"#9c179e\"], [0.4444444444444444, \"#bd3786\"], [0.5555555555555556, \"#d8576b\"], [0.6666666666666666, \"#ed7953\"], [0.7777777777777778, \"#fb9f3a\"], [0.8888888888888888, \"#fdca26\"], [1.0, \"#f0f921\"]], \"type\": \"heatmapgl\"}], \"histogram\": [{\"marker\": {\"colorbar\": {\"outlinewidth\": 0, \"ticks\": \"\"}}, \"type\": \"histogram\"}], \"histogram2d\": [{\"colorbar\": {\"outlinewidth\": 0, \"ticks\": \"\"}, \"colorscale\": [[0.0, \"#0d0887\"], [0.1111111111111111, \"#46039f\"], [0.2222222222222222, \"#7201a8\"], [0.3333333333333333, \"#9c179e\"], [0.4444444444444444, \"#bd3786\"], [0.5555555555555556, \"#d8576b\"], [0.6666666666666666, \"#ed7953\"], [0.7777777777777778, \"#fb9f3a\"], [0.8888888888888888, \"#fdca26\"], [1.0, \"#f0f921\"]], \"type\": \"histogram2d\"}], \"histogram2dcontour\": [{\"colorbar\": {\"outlinewidth\": 0, \"ticks\": \"\"}, \"colorscale\": [[0.0, \"#0d0887\"], [0.1111111111111111, \"#46039f\"], [0.2222222222222222, \"#7201a8\"], [0.3333333333333333, \"#9c179e\"], [0.4444444444444444, \"#bd3786\"], [0.5555555555555556, \"#d8576b\"], [0.6666666666666666, \"#ed7953\"], [0.7777777777777778, \"#fb9f3a\"], [0.8888888888888888, \"#fdca26\"], [1.0, \"#f0f921\"]], \"type\": \"histogram2dcontour\"}], \"mesh3d\": [{\"colorbar\": {\"outlinewidth\": 0, \"ticks\": \"\"}, \"type\": \"mesh3d\"}], \"parcoords\": [{\"line\": {\"colorbar\": {\"outlinewidth\": 0, \"ticks\": \"\"}}, \"type\": \"parcoords\"}], \"pie\": [{\"automargin\": true, \"type\": \"pie\"}], \"scatter\": [{\"marker\": {\"colorbar\": {\"outlinewidth\": 0, \"ticks\": \"\"}}, \"type\": \"scatter\"}], \"scatter3d\": [{\"line\": {\"colorbar\": {\"outlinewidth\": 0, \"ticks\": \"\"}}, \"marker\": {\"colorbar\": {\"outlinewidth\": 0, \"ticks\": \"\"}}, \"type\": \"scatter3d\"}], \"scattercarpet\": [{\"marker\": {\"colorbar\": {\"outlinewidth\": 0, \"ticks\": \"\"}}, \"type\": \"scattercarpet\"}], \"scattergeo\": [{\"marker\": {\"colorbar\": {\"outlinewidth\": 0, \"ticks\": \"\"}}, \"type\": \"scattergeo\"}], \"scattergl\": [{\"marker\": {\"colorbar\": {\"outlinewidth\": 0, \"ticks\": \"\"}}, \"type\": \"scattergl\"}], \"scattermapbox\": [{\"marker\": {\"colorbar\": {\"outlinewidth\": 0, \"ticks\": \"\"}}, \"type\": \"scattermapbox\"}], \"scatterpolar\": [{\"marker\": {\"colorbar\": {\"outlinewidth\": 0, \"ticks\": \"\"}}, \"type\": \"scatterpolar\"}], \"scatterpolargl\": [{\"marker\": {\"colorbar\": {\"outlinewidth\": 0, \"ticks\": \"\"}}, \"type\": \"scatterpolargl\"}], \"scatterternary\": [{\"marker\": {\"colorbar\": {\"outlinewidth\": 0, \"ticks\": \"\"}}, \"type\": \"scatterternary\"}], \"surface\": [{\"colorbar\": {\"outlinewidth\": 0, \"ticks\": \"\"}, \"colorscale\": [[0.0, \"#0d0887\"], [0.1111111111111111, \"#46039f\"], [0.2222222222222222, \"#7201a8\"], [0.3333333333333333, \"#9c179e\"], [0.4444444444444444, \"#bd3786\"], [0.5555555555555556, \"#d8576b\"], [0.6666666666666666, \"#ed7953\"], [0.7777777777777778, \"#fb9f3a\"], [0.8888888888888888, \"#fdca26\"], [1.0, \"#f0f921\"]], \"type\": \"surface\"}], \"table\": [{\"cells\": {\"fill\": {\"color\": \"#EBF0F8\"}, \"line\": {\"color\": \"white\"}}, \"header\": {\"fill\": {\"color\": \"#C8D4E3\"}, \"line\": {\"color\": \"white\"}}, \"type\": \"table\"}]}, \"layout\": {\"annotationdefaults\": {\"arrowcolor\": \"#2a3f5f\", \"arrowhead\": 0, \"arrowwidth\": 1}, \"autotypenumbers\": \"strict\", \"coloraxis\": {\"colorbar\": {\"outlinewidth\": 0, \"ticks\": \"\"}}, \"colorscale\": {\"diverging\": [[0, \"#8e0152\"], [0.1, \"#c51b7d\"], [0.2, \"#de77ae\"], [0.3, \"#f1b6da\"], [0.4, \"#fde0ef\"], [0.5, \"#f7f7f7\"], [0.6, \"#e6f5d0\"], [0.7, \"#b8e186\"], [0.8, \"#7fbc41\"], [0.9, \"#4d9221\"], [1, \"#276419\"]], \"sequential\": [[0.0, \"#0d0887\"], [0.1111111111111111, \"#46039f\"], [0.2222222222222222, \"#7201a8\"], [0.3333333333333333, \"#9c179e\"], [0.4444444444444444, \"#bd3786\"], [0.5555555555555556, \"#d8576b\"], [0.6666666666666666, \"#ed7953\"], [0.7777777777777778, \"#fb9f3a\"], [0.8888888888888888, \"#fdca26\"], [1.0, \"#f0f921\"]], \"sequentialminus\": [[0.0, \"#0d0887\"], [0.1111111111111111, \"#46039f\"], [0.2222222222222222, \"#7201a8\"], [0.3333333333333333, \"#9c179e\"], [0.4444444444444444, \"#bd3786\"], [0.5555555555555556, \"#d8576b\"], [0.6666666666666666, \"#ed7953\"], [0.7777777777777778, \"#fb9f3a\"], [0.8888888888888888, \"#fdca26\"], [1.0, \"#f0f921\"]]}, \"colorway\": [\"#636efa\", \"#EF553B\", \"#00cc96\", \"#ab63fa\", \"#FFA15A\", \"#19d3f3\", \"#FF6692\", \"#B6E880\", \"#FF97FF\", \"#FECB52\"], \"font\": {\"color\": \"#2a3f5f\"}, \"geo\": {\"bgcolor\": \"white\", \"lakecolor\": \"white\", \"landcolor\": \"#E5ECF6\", \"showlakes\": true, \"showland\": true, \"subunitcolor\": \"white\"}, \"hoverlabel\": {\"align\": \"left\"}, \"hovermode\": \"closest\", \"mapbox\": {\"style\": \"light\"}, \"paper_bgcolor\": \"white\", \"plot_bgcolor\": \"#E5ECF6\", \"polar\": {\"angularaxis\": {\"gridcolor\": \"white\", \"linecolor\": \"white\", \"ticks\": \"\"}, \"bgcolor\": \"#E5ECF6\", \"radialaxis\": {\"gridcolor\": \"white\", \"linecolor\": \"white\", \"ticks\": \"\"}}, \"scene\": {\"xaxis\": {\"backgroundcolor\": \"#E5ECF6\", \"gridcolor\": \"white\", \"gridwidth\": 2, \"linecolor\": \"white\", \"showbackground\": true, \"ticks\": \"\", \"zerolinecolor\": \"white\"}, \"yaxis\": {\"backgroundcolor\": \"#E5ECF6\", \"gridcolor\": \"white\", \"gridwidth\": 2, \"linecolor\": \"white\", \"showbackground\": true, \"ticks\": \"\", \"zerolinecolor\": \"white\"}, \"zaxis\": {\"backgroundcolor\": \"#E5ECF6\", \"gridcolor\": \"white\", \"gridwidth\": 2, \"linecolor\": \"white\", \"showbackground\": true, \"ticks\": \"\", \"zerolinecolor\": \"white\"}}, \"shapedefaults\": {\"line\": {\"color\": \"#2a3f5f\"}}, \"ternary\": {\"aaxis\": {\"gridcolor\": \"white\", \"linecolor\": \"white\", \"ticks\": \"\"}, \"baxis\": {\"gridcolor\": \"white\", \"linecolor\": \"white\", \"ticks\": \"\"}, \"bgcolor\": \"#E5ECF6\", \"caxis\": {\"gridcolor\": \"white\", \"linecolor\": \"white\", \"ticks\": \"\"}}, \"title\": {\"x\": 0.05}, \"xaxis\": {\"automargin\": true, \"gridcolor\": \"white\", \"linecolor\": \"white\", \"ticks\": \"\", \"title\": {\"standoff\": 15}, \"zerolinecolor\": \"white\", \"zerolinewidth\": 2}, \"yaxis\": {\"automargin\": true, \"gridcolor\": \"white\", \"linecolor\": \"white\", \"ticks\": \"\", \"title\": {\"standoff\": 15}, \"zerolinecolor\": \"white\", \"zerolinewidth\": 2}}}, \"title\": {\"text\": \"Number of orders per country\"}},                        {\"responsive\": true}                    ).then(function(){\n",
       "                            \n",
       "var gd = document.getElementById('5335133d-d76c-481e-80d1-c8e9063ffef4');\n",
       "var x = new MutationObserver(function (mutations, observer) {{\n",
       "        var display = window.getComputedStyle(gd).display;\n",
       "        if (!display || display === 'none') {{\n",
       "            console.log([gd, 'removed!']);\n",
       "            Plotly.purge(gd);\n",
       "            observer.disconnect();\n",
       "        }}\n",
       "}});\n",
       "\n",
       "// Listen for the removal of the full notebook cells\n",
       "var notebookContainer = gd.closest('#notebook-container');\n",
       "if (notebookContainer) {{\n",
       "    x.observe(notebookContainer, {childList: true});\n",
       "}}\n",
       "\n",
       "// Listen for the clearing of the current output cell\n",
       "var outputEl = gd.closest('.output');\n",
       "if (outputEl) {{\n",
       "    x.observe(outputEl, {childList: true});\n",
       "}}\n",
       "\n",
       "                        })                };                });            </script>        </div>"
      ]
     },
     "metadata": {},
     "output_type": "display_data"
    }
   ],
   "source": [
    "import plotly.graph_objs as go\n",
    "import warnings\n",
    "from plotly.offline import init_notebook_mode,iplot\n",
    "init_notebook_mode(connected=True)\n",
    "warnings.filterwarnings(\"ignore\")\n",
    "\n",
    "temp = df_st[['CustomerID', 'InvoiceNo', 'Country']].groupby(['CustomerID', 'InvoiceNo', 'Country']).count()\n",
    "temp = temp.toPandas()\n",
    "temp = temp.reset_index(drop = False)\n",
    "countries = temp['Country'].value_counts()\n",
    "\n",
    "data = dict(type='choropleth',\n",
    "locations = countries.index,\n",
    "locationmode = 'country names', z = countries,\n",
    "text = countries.index, colorbar = {'title':'Order no.'},\n",
    "colorscale=[[0, 'rgb(224,255,255)'],\n",
    "            [0.01, 'rgb(166,206,227)'], [0.02, 'rgb(31,120,180)'],\n",
    "            [0.03, 'rgb(178,223,138)'], [0.05, 'rgb(51,160,44)'],\n",
    "            [0.10, 'rgb(251,154,153)'], [0.20, 'rgb(255,255,0)'],\n",
    "            [1, 'rgb(227,26,28)']],    \n",
    "reversescale = False)\n",
    "#_______________________\n",
    "layout = dict(title='Number of orders per country',\n",
    "geo = dict(showframe = True, projection={'type':'mercator'}))\n",
    "#______________\n",
    "choromap = go.Figure(data = [data], layout = layout)\n",
    "iplot(choromap, validate=False)"
   ]
  },
  {
   "cell_type": "markdown",
   "id": "9256ec5d",
   "metadata": {},
   "source": [
    "### Apply Machine Learning for Predicting Quantity"
   ]
  },
  {
   "cell_type": "code",
   "execution_count": null,
   "id": "2c978460",
   "metadata": {},
   "outputs": [],
   "source": []
  }
 ],
 "metadata": {
  "kernelspec": {
   "display_name": "Python 3",
   "language": "python",
   "name": "python3"
  },
  "language_info": {
   "codemirror_mode": {
    "name": "ipython",
    "version": 3
   },
   "file_extension": ".py",
   "mimetype": "text/x-python",
   "name": "python",
   "nbconvert_exporter": "python",
   "pygments_lexer": "ipython3",
   "version": "3.6.13"
  }
 },
 "nbformat": 4,
 "nbformat_minor": 5
}
